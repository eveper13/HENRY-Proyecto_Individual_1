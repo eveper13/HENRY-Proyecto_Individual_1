{
 "cells": [
  {
   "cell_type": "markdown",
   "metadata": {},
   "source": [
    "aqui especificar el ETL y hago los requerimientos que me piden en el readme del github... acomodar introduccion"
   ]
  },
  {
   "cell_type": "code",
   "execution_count": 83,
   "metadata": {},
   "outputs": [],
   "source": [
    "# Importar las bibliotecas necesarias\n",
    "import numpy as np\n",
    "import pandas as pd\n",
    "import json\n",
    "import ast"
   ]
  },
  {
   "cell_type": "code",
   "execution_count": 117,
   "metadata": {},
   "outputs": [
    {
     "name": "stderr",
     "output_type": "stream",
     "text": [
      "C:\\Users\\evely\\AppData\\Local\\Temp\\ipykernel_13176\\1250963378.py:2: DtypeWarning: Columns (10) have mixed types. Specify dtype option on import or set low_memory=False.\n",
      "  df_movies = pd.read_csv('Dataset_original/movies_dataset.csv', encoding='utf-8')\n"
     ]
    }
   ],
   "source": [
    "#Extraer el dataset\n",
    "df_movies = pd.read_csv('Dataset_original/movies_dataset.csv', encoding='utf-8')"
   ]
  },
  {
   "cell_type": "code",
   "execution_count": 86,
   "metadata": {},
   "outputs": [
    {
     "name": "stdout",
     "output_type": "stream",
     "text": [
      "(45466, 24)\n"
     ]
    },
    {
     "data": {
      "text/html": [
       "<div>\n",
       "<style scoped>\n",
       "    .dataframe tbody tr th:only-of-type {\n",
       "        vertical-align: middle;\n",
       "    }\n",
       "\n",
       "    .dataframe tbody tr th {\n",
       "        vertical-align: top;\n",
       "    }\n",
       "\n",
       "    .dataframe thead th {\n",
       "        text-align: right;\n",
       "    }\n",
       "</style>\n",
       "<table border=\"1\" class=\"dataframe\">\n",
       "  <thead>\n",
       "    <tr style=\"text-align: right;\">\n",
       "      <th></th>\n",
       "      <th>adult</th>\n",
       "      <th>belongs_to_collection</th>\n",
       "      <th>budget</th>\n",
       "      <th>genres</th>\n",
       "      <th>homepage</th>\n",
       "      <th>id</th>\n",
       "      <th>imdb_id</th>\n",
       "      <th>original_language</th>\n",
       "      <th>original_title</th>\n",
       "      <th>overview</th>\n",
       "      <th>...</th>\n",
       "      <th>release_date</th>\n",
       "      <th>revenue</th>\n",
       "      <th>runtime</th>\n",
       "      <th>spoken_languages</th>\n",
       "      <th>status</th>\n",
       "      <th>tagline</th>\n",
       "      <th>title</th>\n",
       "      <th>video</th>\n",
       "      <th>vote_average</th>\n",
       "      <th>vote_count</th>\n",
       "    </tr>\n",
       "  </thead>\n",
       "  <tbody>\n",
       "    <tr>\n",
       "      <th>0</th>\n",
       "      <td>False</td>\n",
       "      <td>{'id': 10194, 'name': 'Toy Story Collection', ...</td>\n",
       "      <td>30000000</td>\n",
       "      <td>[{'id': 16, 'name': 'Animation'}, {'id': 35, '...</td>\n",
       "      <td>http://toystory.disney.com/toy-story</td>\n",
       "      <td>862</td>\n",
       "      <td>tt0114709</td>\n",
       "      <td>en</td>\n",
       "      <td>Toy Story</td>\n",
       "      <td>Led by Woody, Andy's toys live happily in his ...</td>\n",
       "      <td>...</td>\n",
       "      <td>1995-10-30</td>\n",
       "      <td>373554033.0</td>\n",
       "      <td>81.0</td>\n",
       "      <td>[{'iso_639_1': 'en', 'name': 'English'}]</td>\n",
       "      <td>Released</td>\n",
       "      <td>NaN</td>\n",
       "      <td>Toy Story</td>\n",
       "      <td>False</td>\n",
       "      <td>7.7</td>\n",
       "      <td>5415.0</td>\n",
       "    </tr>\n",
       "  </tbody>\n",
       "</table>\n",
       "<p>1 rows × 24 columns</p>\n",
       "</div>"
      ],
      "text/plain": [
       "   adult                              belongs_to_collection    budget  \\\n",
       "0  False  {'id': 10194, 'name': 'Toy Story Collection', ...  30000000   \n",
       "\n",
       "                                              genres  \\\n",
       "0  [{'id': 16, 'name': 'Animation'}, {'id': 35, '...   \n",
       "\n",
       "                               homepage   id    imdb_id original_language  \\\n",
       "0  http://toystory.disney.com/toy-story  862  tt0114709                en   \n",
       "\n",
       "  original_title                                           overview  ...  \\\n",
       "0      Toy Story  Led by Woody, Andy's toys live happily in his ...  ...   \n",
       "\n",
       "  release_date      revenue runtime                          spoken_languages  \\\n",
       "0   1995-10-30  373554033.0    81.0  [{'iso_639_1': 'en', 'name': 'English'}]   \n",
       "\n",
       "     status  tagline      title  video vote_average vote_count  \n",
       "0  Released      NaN  Toy Story  False          7.7     5415.0  \n",
       "\n",
       "[1 rows x 24 columns]"
      ]
     },
     "execution_count": 86,
     "metadata": {},
     "output_type": "execute_result"
    }
   ],
   "source": [
    "#Imprimir tamaño y encabezados del dataset\n",
    "print(df_movies.shape)\n",
    "df_movies.head(1)"
   ]
  },
  {
   "cell_type": "code",
   "execution_count": 87,
   "metadata": {},
   "outputs": [],
   "source": [
    "\n",
    "# Crear una copia del DataFrame original para no modificarlo directamente\n",
    "df = df_movies.copy()\n"
   ]
  },
  {
   "cell_type": "code",
   "execution_count": 88,
   "metadata": {},
   "outputs": [
    {
     "name": "stdout",
     "output_type": "stream",
     "text": [
      "0        {'id': 10194, 'name': 'Toy Story Collection', ...\n",
      "1                                                      NaN\n",
      "2        {'id': 119050, 'name': 'Grumpy Old Men Collect...\n",
      "3                                                      NaN\n",
      "4        {'id': 96871, 'name': 'Father of the Bride Col...\n",
      "                               ...                        \n",
      "45461                                                  NaN\n",
      "45462                                                  NaN\n",
      "45463                                                  NaN\n",
      "45464                                                  NaN\n",
      "45465                                                  NaN\n",
      "Name: belongs_to_collection, Length: 45466, dtype: object\n"
     ]
    }
   ],
   "source": [
    "# Mostrar solo la columna 'belongs_to_collection'\n",
    "print(df['belongs_to_collection'])"
   ]
  },
  {
   "cell_type": "code",
   "execution_count": 89,
   "metadata": {},
   "outputs": [
    {
     "name": "stdout",
     "output_type": "stream",
     "text": [
      "   adult    budget                                             genres  \\\n",
      "0  False  30000000  [{'id': 16, 'name': 'Animation'}, {'id': 35, '...   \n",
      "1  False  65000000  [{'id': 12, 'name': 'Adventure'}, {'id': 14, '...   \n",
      "2  False         0  [{'id': 10749, 'name': 'Romance'}, {'id': 35, ...   \n",
      "3  False  16000000  [{'id': 35, 'name': 'Comedy'}, {'id': 18, 'nam...   \n",
      "4  False         0                     [{'id': 35, 'name': 'Comedy'}]   \n",
      "\n",
      "                               homepage     id    imdb_id original_language  \\\n",
      "0  http://toystory.disney.com/toy-story    862  tt0114709                en   \n",
      "1                                   NaN   8844  tt0113497                en   \n",
      "2                                   NaN  15602  tt0113228                en   \n",
      "3                                   NaN  31357  tt0114885                en   \n",
      "4                                   NaN  11862  tt0113041                en   \n",
      "\n",
      "                original_title  \\\n",
      "0                    Toy Story   \n",
      "1                      Jumanji   \n",
      "2             Grumpier Old Men   \n",
      "3            Waiting to Exhale   \n",
      "4  Father of the Bride Part II   \n",
      "\n",
      "                                            overview popularity  ... runtime  \\\n",
      "0  Led by Woody, Andy's toys live happily in his ...  21.946943  ...    81.0   \n",
      "1  When siblings Judy and Peter discover an encha...  17.015539  ...   104.0   \n",
      "2  A family wedding reignites the ancient feud be...    11.7129  ...   101.0   \n",
      "3  Cheated on, mistreated and stepped on, the wom...   3.859495  ...   127.0   \n",
      "4  Just when George Banks has recovered from his ...   8.387519  ...   106.0   \n",
      "\n",
      "                                    spoken_languages    status  \\\n",
      "0           [{'iso_639_1': 'en', 'name': 'English'}]  Released   \n",
      "1  [{'iso_639_1': 'en', 'name': 'English'}, {'iso...  Released   \n",
      "2           [{'iso_639_1': 'en', 'name': 'English'}]  Released   \n",
      "3           [{'iso_639_1': 'en', 'name': 'English'}]  Released   \n",
      "4           [{'iso_639_1': 'en', 'name': 'English'}]  Released   \n",
      "\n",
      "                                             tagline  \\\n",
      "0                                                NaN   \n",
      "1          Roll the dice and unleash the excitement!   \n",
      "2  Still Yelling. Still Fighting. Still Ready for...   \n",
      "3  Friends are the people who let you be yourself...   \n",
      "4  Just When His World Is Back To Normal... He's ...   \n",
      "\n",
      "                         title  video vote_average vote_count idCollection  \\\n",
      "0                    Toy Story  False          7.7     5415.0      10194.0   \n",
      "1                      Jumanji  False          6.9     2413.0          NaN   \n",
      "2             Grumpier Old Men  False          6.5       92.0     119050.0   \n",
      "3            Waiting to Exhale  False          6.1       34.0          NaN   \n",
      "4  Father of the Bride Part II  False          5.7      173.0      96871.0   \n",
      "\n",
      "                  name_collection  \n",
      "0            Toy Story Collection  \n",
      "1                            None  \n",
      "2       Grumpy Old Men Collection  \n",
      "3                            None  \n",
      "4  Father of the Bride Collection  \n",
      "\n",
      "[5 rows x 25 columns]\n"
     ]
    }
   ],
   "source": [
    "# Función para desanidar el campo usando ast.literal_eval para la columna belongs_to_collection\n",
    "def expand_collection(df, belongs_to_collection):\n",
    "    def safe_literal_eval(x):\n",
    "        if pd.isna(x) or x == '':\n",
    "            return {}\n",
    "        try:\n",
    "            # Usar ast.literal_eval para convertir la cadena en diccionario\n",
    "            data = ast.literal_eval(x)\n",
    "            if isinstance(data, dict):\n",
    "                return data\n",
    "            return {}\n",
    "        except (ValueError, SyntaxError):\n",
    "            return {}\n",
    "    \n",
    "    # Aplicar la función para convertir los valores\n",
    "    df[belongs_to_collection] = df[belongs_to_collection].apply(safe_literal_eval)\n",
    "    \n",
    "    # Crear nuevas columnas a partir del diccionario\n",
    "    # solo se extrae informacion necesaria de esta columna\n",
    "    df['idCollection'] = df[belongs_to_collection].apply(lambda x: x.get('id'))\n",
    "    df['name_collection'] = df[belongs_to_collection].apply(lambda x: x.get('name'))\n",
    "    \n",
    "    return df.drop(columns=[belongs_to_collection])\n",
    "\n",
    "# Aplicar la función\n",
    "movies = expand_collection(df, 'belongs_to_collection')\n",
    "\n",
    "# Mostrar las primeras filas para verificar\n",
    "print(movies.head())\n"
   ]
  },
  {
   "cell_type": "code",
   "execution_count": 90,
   "metadata": {},
   "outputs": [
    {
     "data": {
      "text/html": [
       "<div>\n",
       "<style scoped>\n",
       "    .dataframe tbody tr th:only-of-type {\n",
       "        vertical-align: middle;\n",
       "    }\n",
       "\n",
       "    .dataframe tbody tr th {\n",
       "        vertical-align: top;\n",
       "    }\n",
       "\n",
       "    .dataframe thead th {\n",
       "        text-align: right;\n",
       "    }\n",
       "</style>\n",
       "<table border=\"1\" class=\"dataframe\">\n",
       "  <thead>\n",
       "    <tr style=\"text-align: right;\">\n",
       "      <th></th>\n",
       "      <th>adult</th>\n",
       "      <th>budget</th>\n",
       "      <th>genres</th>\n",
       "      <th>homepage</th>\n",
       "      <th>id</th>\n",
       "      <th>imdb_id</th>\n",
       "      <th>original_language</th>\n",
       "      <th>original_title</th>\n",
       "      <th>overview</th>\n",
       "      <th>popularity</th>\n",
       "      <th>...</th>\n",
       "      <th>runtime</th>\n",
       "      <th>spoken_languages</th>\n",
       "      <th>status</th>\n",
       "      <th>tagline</th>\n",
       "      <th>title</th>\n",
       "      <th>video</th>\n",
       "      <th>vote_average</th>\n",
       "      <th>vote_count</th>\n",
       "      <th>idCollection</th>\n",
       "      <th>name_collection</th>\n",
       "    </tr>\n",
       "  </thead>\n",
       "  <tbody>\n",
       "    <tr>\n",
       "      <th>0</th>\n",
       "      <td>False</td>\n",
       "      <td>30000000</td>\n",
       "      <td>[{'id': 16, 'name': 'Animation'}, {'id': 35, '...</td>\n",
       "      <td>http://toystory.disney.com/toy-story</td>\n",
       "      <td>862</td>\n",
       "      <td>tt0114709</td>\n",
       "      <td>en</td>\n",
       "      <td>Toy Story</td>\n",
       "      <td>Led by Woody, Andy's toys live happily in his ...</td>\n",
       "      <td>21.946943</td>\n",
       "      <td>...</td>\n",
       "      <td>81.0</td>\n",
       "      <td>[{'iso_639_1': 'en', 'name': 'English'}]</td>\n",
       "      <td>Released</td>\n",
       "      <td>NaN</td>\n",
       "      <td>Toy Story</td>\n",
       "      <td>False</td>\n",
       "      <td>7.7</td>\n",
       "      <td>5415.0</td>\n",
       "      <td>10194.0</td>\n",
       "      <td>Toy Story Collection</td>\n",
       "    </tr>\n",
       "  </tbody>\n",
       "</table>\n",
       "<p>1 rows × 25 columns</p>\n",
       "</div>"
      ],
      "text/plain": [
       "   adult    budget                                             genres  \\\n",
       "0  False  30000000  [{'id': 16, 'name': 'Animation'}, {'id': 35, '...   \n",
       "\n",
       "                               homepage   id    imdb_id original_language  \\\n",
       "0  http://toystory.disney.com/toy-story  862  tt0114709                en   \n",
       "\n",
       "  original_title                                           overview  \\\n",
       "0      Toy Story  Led by Woody, Andy's toys live happily in his ...   \n",
       "\n",
       "  popularity  ... runtime                          spoken_languages    status  \\\n",
       "0  21.946943  ...    81.0  [{'iso_639_1': 'en', 'name': 'English'}]  Released   \n",
       "\n",
       "  tagline      title  video vote_average vote_count idCollection  \\\n",
       "0     NaN  Toy Story  False          7.7     5415.0      10194.0   \n",
       "\n",
       "        name_collection  \n",
       "0  Toy Story Collection  \n",
       "\n",
       "[1 rows x 25 columns]"
      ]
     },
     "execution_count": 90,
     "metadata": {},
     "output_type": "execute_result"
    }
   ],
   "source": [
    "movies.head(1)"
   ]
  },
  {
   "cell_type": "markdown",
   "metadata": {},
   "source": [
    "Ahora se procede a desanidar las demas columnas "
   ]
  },
  {
   "cell_type": "code",
   "execution_count": 91,
   "metadata": {},
   "outputs": [],
   "source": [
    "# Desanidar columnas del dataframe \n",
    "\n",
    "# Lista de columnas anidadas a desanidar\n",
    "columnas_anidadas = ['genres', 'production_companies', 'production_countries', 'spoken_languages']\n",
    "\n",
    "# Función para desanidar columnas que contienen listas de diccionarios\n",
    "def desanidar_columna(df, columna):\n",
    "    # Convertir cadenas de texto en listas/diccionarios si es necesario\n",
    "    df[columna] = df[columna].apply(lambda x: ast.literal_eval(x) if isinstance(x, str) else x)\n",
    "    \n",
    "    # Desanidar según el tipo de datos en la columna\n",
    "    if df[columna].apply(lambda x: isinstance(x, list)).any():\n",
    "        # Para columnas con listas de diccionarios\n",
    "        desanidado = pd.json_normalize(df[columna].explode().dropna()).reset_index(drop=True)\n",
    "    else:\n",
    "        # Para columnas con diccionarios simples\n",
    "        desanidado = pd.json_normalize(df[columna].dropna()).reset_index(drop=True)\n",
    "    \n",
    "    # Renombrar las columnas desanidadas\n",
    "    desanidado.columns = [f\"{columna}_{subcol}\" for subcol in desanidado.columns]\n",
    "    \n",
    "    # Unir las columnas desanidadas al DataFrame original\n",
    "    df = df.drop(columns=[columna]).join(desanidado)\n",
    "    return df\n",
    "\n",
    "# Desanidar columnas que contienen listas de diccionarios\n",
    "for columna in ['genres', 'production_companies', 'production_countries', 'spoken_languages']:\n",
    "    movies = desanidar_columna(movies, columna)\n"
   ]
  },
  {
   "cell_type": "code",
   "execution_count": 92,
   "metadata": {},
   "outputs": [
    {
     "name": "stdout",
     "output_type": "stream",
     "text": [
      "(45466, 29)\n"
     ]
    },
    {
     "data": {
      "text/html": [
       "<div>\n",
       "<style scoped>\n",
       "    .dataframe tbody tr th:only-of-type {\n",
       "        vertical-align: middle;\n",
       "    }\n",
       "\n",
       "    .dataframe tbody tr th {\n",
       "        vertical-align: top;\n",
       "    }\n",
       "\n",
       "    .dataframe thead th {\n",
       "        text-align: right;\n",
       "    }\n",
       "</style>\n",
       "<table border=\"1\" class=\"dataframe\">\n",
       "  <thead>\n",
       "    <tr style=\"text-align: right;\">\n",
       "      <th></th>\n",
       "      <th>adult</th>\n",
       "      <th>budget</th>\n",
       "      <th>homepage</th>\n",
       "      <th>id</th>\n",
       "      <th>imdb_id</th>\n",
       "      <th>original_language</th>\n",
       "      <th>original_title</th>\n",
       "      <th>overview</th>\n",
       "      <th>popularity</th>\n",
       "      <th>poster_path</th>\n",
       "      <th>...</th>\n",
       "      <th>idCollection</th>\n",
       "      <th>name_collection</th>\n",
       "      <th>genres_id</th>\n",
       "      <th>genres_name</th>\n",
       "      <th>production_companies_name</th>\n",
       "      <th>production_companies_id</th>\n",
       "      <th>production_countries_iso_3166_1</th>\n",
       "      <th>production_countries_name</th>\n",
       "      <th>spoken_languages_iso_639_1</th>\n",
       "      <th>spoken_languages_name</th>\n",
       "    </tr>\n",
       "  </thead>\n",
       "  <tbody>\n",
       "    <tr>\n",
       "      <th>0</th>\n",
       "      <td>False</td>\n",
       "      <td>30000000</td>\n",
       "      <td>http://toystory.disney.com/toy-story</td>\n",
       "      <td>862</td>\n",
       "      <td>tt0114709</td>\n",
       "      <td>en</td>\n",
       "      <td>Toy Story</td>\n",
       "      <td>Led by Woody, Andy's toys live happily in his ...</td>\n",
       "      <td>21.946943</td>\n",
       "      <td>/rhIRbceoE9lR4veEXuwCC2wARtG.jpg</td>\n",
       "      <td>...</td>\n",
       "      <td>10194.0</td>\n",
       "      <td>Toy Story Collection</td>\n",
       "      <td>16</td>\n",
       "      <td>Animation</td>\n",
       "      <td>Pixar Animation Studios</td>\n",
       "      <td>3.0</td>\n",
       "      <td>US</td>\n",
       "      <td>United States of America</td>\n",
       "      <td>en</td>\n",
       "      <td>English</td>\n",
       "    </tr>\n",
       "  </tbody>\n",
       "</table>\n",
       "<p>1 rows × 29 columns</p>\n",
       "</div>"
      ],
      "text/plain": [
       "   adult    budget                              homepage   id    imdb_id  \\\n",
       "0  False  30000000  http://toystory.disney.com/toy-story  862  tt0114709   \n",
       "\n",
       "  original_language original_title  \\\n",
       "0                en      Toy Story   \n",
       "\n",
       "                                            overview popularity  \\\n",
       "0  Led by Woody, Andy's toys live happily in his ...  21.946943   \n",
       "\n",
       "                        poster_path  ... idCollection       name_collection  \\\n",
       "0  /rhIRbceoE9lR4veEXuwCC2wARtG.jpg  ...      10194.0  Toy Story Collection   \n",
       "\n",
       "   genres_id genres_name production_companies_name production_companies_id  \\\n",
       "0         16   Animation   Pixar Animation Studios                     3.0   \n",
       "\n",
       "  production_countries_iso_3166_1  production_countries_name  \\\n",
       "0                              US   United States of America   \n",
       "\n",
       "   spoken_languages_iso_639_1  spoken_languages_name  \n",
       "0                          en                English  \n",
       "\n",
       "[1 rows x 29 columns]"
      ]
     },
     "execution_count": 92,
     "metadata": {},
     "output_type": "execute_result"
    }
   ],
   "source": [
    "print(movies.shape)\n",
    "\n",
    "movies.head(1)\n"
   ]
  },
  {
   "cell_type": "code",
   "execution_count": 93,
   "metadata": {},
   "outputs": [],
   "source": [
    "#Se deben eliminar columnas de las desanidadas que no se usaran ***"
   ]
  },
  {
   "cell_type": "code",
   "execution_count": 94,
   "metadata": {},
   "outputs": [],
   "source": [
    "# Eliminar las columnas que no serán utilizadas\n",
    "columns_to_drop = ['video', 'imdb_id', 'adult', 'original_title', 'poster_path', 'homepage',  \n",
    "                   'production_countries_iso_3166_1', 'spoken_languages_iso_639_1']\n",
    "movies = movies.drop(columns=columns_to_drop)"
   ]
  },
  {
   "cell_type": "code",
   "execution_count": 95,
   "metadata": {},
   "outputs": [
    {
     "data": {
      "text/html": [
       "<div>\n",
       "<style scoped>\n",
       "    .dataframe tbody tr th:only-of-type {\n",
       "        vertical-align: middle;\n",
       "    }\n",
       "\n",
       "    .dataframe tbody tr th {\n",
       "        vertical-align: top;\n",
       "    }\n",
       "\n",
       "    .dataframe thead th {\n",
       "        text-align: right;\n",
       "    }\n",
       "</style>\n",
       "<table border=\"1\" class=\"dataframe\">\n",
       "  <thead>\n",
       "    <tr style=\"text-align: right;\">\n",
       "      <th></th>\n",
       "      <th>budget</th>\n",
       "      <th>idMovies</th>\n",
       "      <th>original_language</th>\n",
       "      <th>overview</th>\n",
       "      <th>popularity</th>\n",
       "      <th>release_date</th>\n",
       "      <th>revenue</th>\n",
       "      <th>runtime</th>\n",
       "      <th>status</th>\n",
       "      <th>tagline</th>\n",
       "      <th>...</th>\n",
       "      <th>vote_average</th>\n",
       "      <th>vote_count</th>\n",
       "      <th>idCollection</th>\n",
       "      <th>name_collection</th>\n",
       "      <th>id_genres</th>\n",
       "      <th>genres</th>\n",
       "      <th>production_companies</th>\n",
       "      <th>id_production</th>\n",
       "      <th>production_countries</th>\n",
       "      <th>spoken_language</th>\n",
       "    </tr>\n",
       "  </thead>\n",
       "  <tbody>\n",
       "    <tr>\n",
       "      <th>0</th>\n",
       "      <td>30000000</td>\n",
       "      <td>862</td>\n",
       "      <td>en</td>\n",
       "      <td>Led by Woody, Andy's toys live happily in his ...</td>\n",
       "      <td>21.946943</td>\n",
       "      <td>1995-10-30</td>\n",
       "      <td>373554033.0</td>\n",
       "      <td>81.0</td>\n",
       "      <td>Released</td>\n",
       "      <td>NaN</td>\n",
       "      <td>...</td>\n",
       "      <td>7.7</td>\n",
       "      <td>5415.0</td>\n",
       "      <td>10194.0</td>\n",
       "      <td>Toy Story Collection</td>\n",
       "      <td>16</td>\n",
       "      <td>Animation</td>\n",
       "      <td>Pixar Animation Studios</td>\n",
       "      <td>3.0</td>\n",
       "      <td>United States of America</td>\n",
       "      <td>English</td>\n",
       "    </tr>\n",
       "  </tbody>\n",
       "</table>\n",
       "<p>1 rows × 21 columns</p>\n",
       "</div>"
      ],
      "text/plain": [
       "     budget idMovies original_language  \\\n",
       "0  30000000      862                en   \n",
       "\n",
       "                                            overview popularity release_date  \\\n",
       "0  Led by Woody, Andy's toys live happily in his ...  21.946943   1995-10-30   \n",
       "\n",
       "       revenue  runtime    status tagline  ... vote_average  vote_count  \\\n",
       "0  373554033.0     81.0  Released     NaN  ...          7.7      5415.0   \n",
       "\n",
       "   idCollection       name_collection id_genres     genres  \\\n",
       "0       10194.0  Toy Story Collection        16  Animation   \n",
       "\n",
       "      production_companies id_production      production_countries  \\\n",
       "0  Pixar Animation Studios           3.0  United States of America   \n",
       "\n",
       "  spoken_language  \n",
       "0         English  \n",
       "\n",
       "[1 rows x 21 columns]"
      ]
     },
     "execution_count": 95,
     "metadata": {},
     "output_type": "execute_result"
    }
   ],
   "source": [
    "\n",
    "# Renombrar algunas columnas\n",
    "movies = movies.rename(columns={\n",
    "    'id': 'idMovies',\n",
    "    'genres_id': 'id_genres',\n",
    "    'genres_name': 'genres',\n",
    "    'production_companies_name': 'production_companies',\n",
    "    'production_companies_id': 'id_production',\n",
    "    'production_countries_name': 'production_countries',\n",
    "    'spoken_languages_name': 'spoken_language'\n",
    "\n",
    "})\n",
    "\n",
    "# Verificar las primeras filas del DataFrame para asegurarse de que las columnas han sido renombradas\n",
    "movies.head(1)"
   ]
  },
  {
   "cell_type": "code",
   "execution_count": 96,
   "metadata": {},
   "outputs": [
    {
     "name": "stdout",
     "output_type": "stream",
     "text": [
      "(45466, 21)\n"
     ]
    },
    {
     "data": {
      "text/html": [
       "<div>\n",
       "<style scoped>\n",
       "    .dataframe tbody tr th:only-of-type {\n",
       "        vertical-align: middle;\n",
       "    }\n",
       "\n",
       "    .dataframe tbody tr th {\n",
       "        vertical-align: top;\n",
       "    }\n",
       "\n",
       "    .dataframe thead th {\n",
       "        text-align: right;\n",
       "    }\n",
       "</style>\n",
       "<table border=\"1\" class=\"dataframe\">\n",
       "  <thead>\n",
       "    <tr style=\"text-align: right;\">\n",
       "      <th></th>\n",
       "      <th>budget</th>\n",
       "      <th>idMovies</th>\n",
       "      <th>original_language</th>\n",
       "      <th>overview</th>\n",
       "      <th>popularity</th>\n",
       "      <th>release_date</th>\n",
       "      <th>revenue</th>\n",
       "      <th>runtime</th>\n",
       "      <th>status</th>\n",
       "      <th>tagline</th>\n",
       "      <th>...</th>\n",
       "      <th>vote_average</th>\n",
       "      <th>vote_count</th>\n",
       "      <th>idCollection</th>\n",
       "      <th>name_collection</th>\n",
       "      <th>id_genres</th>\n",
       "      <th>genres</th>\n",
       "      <th>production_companies</th>\n",
       "      <th>id_production</th>\n",
       "      <th>production_countries</th>\n",
       "      <th>spoken_language</th>\n",
       "    </tr>\n",
       "  </thead>\n",
       "  <tbody>\n",
       "    <tr>\n",
       "      <th>0</th>\n",
       "      <td>30000000</td>\n",
       "      <td>862</td>\n",
       "      <td>en</td>\n",
       "      <td>Led by Woody, Andy's toys live happily in his ...</td>\n",
       "      <td>21.946943</td>\n",
       "      <td>1995-10-30</td>\n",
       "      <td>373554033.0</td>\n",
       "      <td>81.0</td>\n",
       "      <td>Released</td>\n",
       "      <td>NaN</td>\n",
       "      <td>...</td>\n",
       "      <td>7.7</td>\n",
       "      <td>5415.0</td>\n",
       "      <td>10194.0</td>\n",
       "      <td>Toy Story Collection</td>\n",
       "      <td>16</td>\n",
       "      <td>Animation</td>\n",
       "      <td>Pixar Animation Studios</td>\n",
       "      <td>3.0</td>\n",
       "      <td>United States of America</td>\n",
       "      <td>English</td>\n",
       "    </tr>\n",
       "  </tbody>\n",
       "</table>\n",
       "<p>1 rows × 21 columns</p>\n",
       "</div>"
      ],
      "text/plain": [
       "     budget idMovies original_language  \\\n",
       "0  30000000      862                en   \n",
       "\n",
       "                                            overview popularity release_date  \\\n",
       "0  Led by Woody, Andy's toys live happily in his ...  21.946943   1995-10-30   \n",
       "\n",
       "       revenue  runtime    status tagline  ... vote_average  vote_count  \\\n",
       "0  373554033.0     81.0  Released     NaN  ...          7.7      5415.0   \n",
       "\n",
       "   idCollection       name_collection id_genres     genres  \\\n",
       "0       10194.0  Toy Story Collection        16  Animation   \n",
       "\n",
       "      production_companies id_production      production_countries  \\\n",
       "0  Pixar Animation Studios           3.0  United States of America   \n",
       "\n",
       "  spoken_language  \n",
       "0         English  \n",
       "\n",
       "[1 rows x 21 columns]"
      ]
     },
     "execution_count": 96,
     "metadata": {},
     "output_type": "execute_result"
    }
   ],
   "source": [
    "#\n",
    "print(movies.shape)\n",
    "movies.head(1)"
   ]
  },
  {
   "cell_type": "markdown",
   "metadata": {},
   "source": [
    "Transformaciones solicitadas"
   ]
  },
  {
   "cell_type": "code",
   "execution_count": 97,
   "metadata": {},
   "outputs": [
    {
     "name": "stdout",
     "output_type": "stream",
     "text": [
      "       revenue    budget\n",
      "0  373554033.0  30000000\n",
      "1  262797249.0  65000000\n",
      "2          0.0         0\n",
      "3   81452156.0  16000000\n",
      "4   76578911.0         0\n"
     ]
    }
   ],
   "source": [
    "# Rellenar los valores nulos en las columnas 'revenue' y 'budget' con 0\n",
    "\n",
    "movies['revenue'] = movies['revenue'].fillna(0)\n",
    "movies['budget'] = movies['budget'].fillna(0)\n",
    "\n",
    "# Ver los primeros registros para verificar\n",
    "print(movies[['revenue', 'budget']].head())\n"
   ]
  },
  {
   "cell_type": "code",
   "execution_count": 98,
   "metadata": {},
   "outputs": [
    {
     "name": "stdout",
     "output_type": "stream",
     "text": [
      "  release_date\n",
      "0   1995-10-30\n",
      "1   1995-12-15\n",
      "2   1995-12-22\n",
      "3   1995-12-22\n",
      "4   1995-02-10\n"
     ]
    }
   ],
   "source": [
    "# Eliminar las filas donde el campo 'release date' es nulo\n",
    "movies = movies.dropna(subset=['release_date'])\n",
    "\n",
    "# Verificar los primeros registros para asegurarse de que se han eliminado las filas nulas\n",
    "print(movies[['release_date']].head())"
   ]
  },
  {
   "cell_type": "code",
   "execution_count": 99,
   "metadata": {},
   "outputs": [
    {
     "name": "stdout",
     "output_type": "stream",
     "text": [
      "  release_date release_year\n",
      "0   1995-10-30         1995\n",
      "1   1995-12-15         1995\n",
      "2   1995-12-22         1995\n",
      "3   1995-12-22         1995\n",
      "4   1995-02-10         1995\n"
     ]
    }
   ],
   "source": [
    "# Convertir la columna 'release_date' al formato de fecha AAAA-mm-dd\n",
    "movies['release_date'] = pd.to_datetime(movies['release_date'], errors='coerce', format='%Y-%m-%d')\n",
    "\n",
    "# Crear la columna 'release_year' extrayendo el año de 'release_date' y convirtiendo a formato de fecha con frecuencia anual\n",
    "movies['release_year'] = movies['release_date'].dt.to_period('Y')\n",
    "\n",
    "# Opcional: Eliminar filas con 'release_year' nulo\n",
    "movies = movies.dropna(subset=['release_year'])\n",
    "\n",
    "# Verificar los primeros registros para asegurarse de que las fechas están formateadas y el año ha sido extraído\n",
    "print(movies[['release_date', 'release_year']].head())\n"
   ]
  },
  {
   "cell_type": "code",
   "execution_count": 100,
   "metadata": {},
   "outputs": [
    {
     "name": "stdout",
     "output_type": "stream",
     "text": [
      "       revenue    budget     return\n",
      "0  373554033.0  30000000  12.451801\n",
      "1  262797249.0  65000000   4.043035\n",
      "2          0.0         0   0.000000\n",
      "3   81452156.0  16000000   5.090760\n",
      "4   76578911.0         0   0.000000\n"
     ]
    }
   ],
   "source": [
    "#Crear la columna con el retorno de inversión, llamada return con los campos revenue y budget, \n",
    "# dividiendo estas dos últimas revenue / budget, cuando no hay datos disponibles para calcularlo, deberá tomar el valor 0\n",
    "\n",
    "# Asegurarse de que las columnas 'revenue' y 'budget' sean numéricas\n",
    "movies['revenue'] = pd.to_numeric(movies['revenue'], errors='coerce')\n",
    "movies['budget'] = pd.to_numeric(movies['budget'], errors='coerce')\n",
    "\n",
    "# Crear la columna 'return' calculando revenue / budget\n",
    "# Si el budget es 0 o NaN, el retorno también debe ser 0\n",
    "movies['return'] = movies.apply(lambda row: row['revenue'] / row['budget'] if row['budget'] > 0 else 0, axis=1)\n",
    "\n",
    "# Verificar los primeros registros para asegurarse de que el cálculo es correcto\n",
    "print(movies[['revenue', 'budget', 'return']].head())\n"
   ]
  },
  {
   "cell_type": "markdown",
   "metadata": {},
   "source": [
    "Realizar otras modificaciones necesarias"
   ]
  },
  {
   "cell_type": "code",
   "execution_count": 101,
   "metadata": {},
   "outputs": [
    {
     "name": "stdout",
     "output_type": "stream",
     "text": [
      "   idCollection                 name_collection\n",
      "0       10194.0            Toy Story Collection\n",
      "1           NaN                            None\n",
      "2      119050.0       Grumpy Old Men Collection\n",
      "3           NaN                            None\n",
      "4       96871.0  Father of the Bride Collection\n"
     ]
    }
   ],
   "source": [
    "# Verifica los primeros registros para asegurarte de que la desanidación se realizó correctamente****\n",
    "print(movies[['idCollection','name_collection']].head())"
   ]
  },
  {
   "cell_type": "code",
   "execution_count": 102,
   "metadata": {},
   "outputs": [
    {
     "name": "stdout",
     "output_type": "stream",
     "text": [
      "budget                           int64\n",
      "idMovies                        object\n",
      "original_language               object\n",
      "overview                        object\n",
      "popularity                      object\n",
      "release_date            datetime64[ns]\n",
      "revenue                        float64\n",
      "runtime                        float64\n",
      "status                          object\n",
      "tagline                         object\n",
      "title                           object\n",
      "vote_average                   float64\n",
      "vote_count                     float64\n",
      "idCollection                   float64\n",
      "name_collection                 object\n",
      "id_genres                        int64\n",
      "genres                          object\n",
      "production_companies            object\n",
      "id_production                  float64\n",
      "production_countries            object\n",
      "spoken_language                 object\n",
      "release_year             period[Y-DEC]\n",
      "return                         float64\n",
      "dtype: object\n"
     ]
    }
   ],
   "source": [
    "#Verificacion de los tipos de datos\n",
    "print(movies.dtypes)"
   ]
  },
  {
   "cell_type": "code",
   "execution_count": 103,
   "metadata": {},
   "outputs": [],
   "source": [
    "# Modificación de idMovies\n",
    "# Convertir la columna 'id' a entero (int)\n",
    "movies['idMovies'] = movies['idMovies'].astype(int)\n",
    "\n",
    "\n",
    "# Modificación de idProduccion\n",
    "# Llenar los valores nulos en 'idProduccion' con 0\n",
    "movies['id_production'] = movies['id_production'].fillna(0)\n",
    "\n",
    "# Convertir la columna 'idProduccion' a entero\n",
    "movies['id_production'] = movies['id_production'].astype(int)\n"
   ]
  },
  {
   "cell_type": "code",
   "execution_count": 104,
   "metadata": {},
   "outputs": [
    {
     "name": "stdout",
     "output_type": "stream",
     "text": [
      "budget                           int64\n",
      "idMovies                         int32\n",
      "original_language               object\n",
      "overview                        object\n",
      "popularity                     float64\n",
      "release_date            datetime64[ns]\n",
      "revenue                        float64\n",
      "runtime                        float64\n",
      "status                          object\n",
      "tagline                         object\n",
      "title                           object\n",
      "vote_average                   float64\n",
      "vote_count                     float64\n",
      "idCollection                   float64\n",
      "name_collection                 object\n",
      "id_genres                        int64\n",
      "genres                          object\n",
      "production_companies            object\n",
      "id_production                    int32\n",
      "production_countries            object\n",
      "spoken_language                 object\n",
      "release_year             period[Y-DEC]\n",
      "return                         float64\n",
      "dtype: object\n"
     ]
    }
   ],
   "source": [
    "# Convertir 'popularity' a float64\n",
    "movies['popularity'] = movies['popularity'].astype(float)\n",
    "\n",
    "# Verificar los tipos de datos después de las conversiones\n",
    "print(movies.dtypes)"
   ]
  },
  {
   "cell_type": "markdown",
   "metadata": {},
   "source": [
    "Verificacion de Campos Nulos"
   ]
  },
  {
   "cell_type": "code",
   "execution_count": 105,
   "metadata": {},
   "outputs": [
    {
     "data": {
      "text/plain": [
       "budget                      0\n",
       "idMovies                    0\n",
       "original_language          11\n",
       "overview                  941\n",
       "popularity                  0\n",
       "release_date                0\n",
       "revenue                     0\n",
       "runtime                   246\n",
       "status                     80\n",
       "tagline                 24978\n",
       "title                       0\n",
       "vote_average                0\n",
       "vote_count                  0\n",
       "idCollection            40888\n",
       "name_collection         40888\n",
       "id_genres                   0\n",
       "genres                      0\n",
       "production_companies        1\n",
       "id_production               0\n",
       "production_countries        3\n",
       "spoken_language             0\n",
       "release_year                0\n",
       "return                      0\n",
       "dtype: int64"
      ]
     },
     "execution_count": 105,
     "metadata": {},
     "output_type": "execute_result"
    }
   ],
   "source": [
    "#valores nulos\n",
    "movies.isnull().sum()"
   ]
  },
  {
   "cell_type": "code",
   "execution_count": 106,
   "metadata": {},
   "outputs": [
    {
     "name": "stdout",
     "output_type": "stream",
     "text": [
      "['Toy Story Collection' None 'Grumpy Old Men Collection' ...\n",
      " 'Ducobu Collection' 'Mister Blot Collection' 'Red Lotus Collection']\n"
     ]
    }
   ],
   "source": [
    "print(movies['name_collection'].unique())"
   ]
  },
  {
   "cell_type": "markdown",
   "metadata": {},
   "source": [
    "Resumen: Eliminación de la Columna coleccion_de_peliculas\n",
    "\n",
    "La columna coleccion_de_peliculas fue eliminada del conjunto de datos debido a su bajo nivel de cobertura y relevancia para el proyecto. Debido a su alta proporción de Valores Nulos: De las 45,466 películas en el conjunto de datos, 40,888 (aproximadamente el 90%).Esto indica que la mayoría de las películas no pertenecen a una franquicia o colección identificada, lo que limita significativamente su utilidad como característica predictiva para el sistema de recomendación.\n"
   ]
  },
  {
   "cell_type": "code",
   "execution_count": 107,
   "metadata": {},
   "outputs": [],
   "source": [
    "# Eliminar las columnas que no serán utilizadas\n",
    "columns_to_drop = ['idCollection', 'name_collection']\n",
    "movies = movies.drop(columns=columns_to_drop)"
   ]
  },
  {
   "cell_type": "code",
   "execution_count": 108,
   "metadata": {},
   "outputs": [
    {
     "data": {
      "text/plain": [
       "budget                      0\n",
       "idMovies                    0\n",
       "original_language          11\n",
       "overview                  941\n",
       "popularity                  0\n",
       "release_date                0\n",
       "revenue                     0\n",
       "runtime                   246\n",
       "status                     80\n",
       "tagline                 24978\n",
       "title                       0\n",
       "vote_average                0\n",
       "vote_count                  0\n",
       "id_genres                   0\n",
       "genres                      0\n",
       "production_companies        1\n",
       "id_production               0\n",
       "production_countries        3\n",
       "spoken_language             0\n",
       "release_year                0\n",
       "return                      0\n",
       "dtype: int64"
      ]
     },
     "execution_count": 108,
     "metadata": {},
     "output_type": "execute_result"
    }
   ],
   "source": [
    "#valores nulos\n",
    "movies.isnull().sum()"
   ]
  },
  {
   "cell_type": "code",
   "execution_count": 109,
   "metadata": {},
   "outputs": [],
   "source": [
    "# Diccionario con columnas y valores de relleno\n",
    "fill_values = {\n",
    "    \n",
    "    'original_language': 'unknown',\n",
    "    'overview': 'no summary',\n",
    "    'tagline': 'no summary',\n",
    "    'status': 'unknown',\n",
    "    'production_companies': 'unknown',\n",
    "    'production_countries': 'unknown',\n",
    "    'runtime': 0\n",
    "    \n",
    "}\n",
    "\n",
    "# Rellenar los valores nulos en las columnas especificadas usando un diccionario\n",
    "movies.fillna(value=fill_values, inplace=True)"
   ]
  },
  {
   "cell_type": "code",
   "execution_count": 110,
   "metadata": {},
   "outputs": [
    {
     "data": {
      "text/plain": [
       "(45376, 21)"
      ]
     },
     "execution_count": 110,
     "metadata": {},
     "output_type": "execute_result"
    }
   ],
   "source": [
    "movies.shape\n"
   ]
  },
  {
   "cell_type": "code",
   "execution_count": 111,
   "metadata": {},
   "outputs": [
    {
     "data": {
      "text/plain": [
       "budget                  0\n",
       "idMovies                0\n",
       "original_language       0\n",
       "overview                0\n",
       "popularity              0\n",
       "release_date            0\n",
       "revenue                 0\n",
       "runtime                 0\n",
       "status                  0\n",
       "tagline                 0\n",
       "title                   0\n",
       "vote_average            0\n",
       "vote_count              0\n",
       "id_genres               0\n",
       "genres                  0\n",
       "production_companies    0\n",
       "id_production           0\n",
       "production_countries    0\n",
       "spoken_language         0\n",
       "release_year            0\n",
       "return                  0\n",
       "dtype: int64"
      ]
     },
     "execution_count": 111,
     "metadata": {},
     "output_type": "execute_result"
    }
   ],
   "source": [
    "#valores nulos\n",
    "movies.isnull().sum()"
   ]
  },
  {
   "cell_type": "markdown",
   "metadata": {},
   "source": [
    "Verificar duplicados\n"
   ]
  },
  {
   "cell_type": "code",
   "execution_count": 112,
   "metadata": {},
   "outputs": [
    {
     "name": "stdout",
     "output_type": "stream",
     "text": [
      "Duplicados basados en la columna 'idMovies' de la tabla Movies: 59\n",
      "Duplicados en todas las columnas: 0\n"
     ]
    }
   ],
   "source": [
    "\n",
    "# Verificar duplicados basados en la columna 'idMovies' \n",
    "duplicates_by_id = movies[movies.duplicated(subset=['idMovies'], keep=False)]\n",
    "\n",
    "# Verificar duplicados en todas las columnas\n",
    "duplicates_all = movies[movies.duplicated(keep=False)]\n",
    "\n",
    "# Mostrar duplicados\n",
    "print(\"Duplicados basados en la columna 'idMovies' de la tabla Movies:\", len(duplicates_by_id))\n",
    "print(\"Duplicados en todas las columnas:\", len(duplicates_all))\n"
   ]
  },
  {
   "cell_type": "code",
   "execution_count": 113,
   "metadata": {},
   "outputs": [
    {
     "name": "stdout",
     "output_type": "stream",
     "text": [
      "         budget  idMovies original_language  \\\n",
      "676           0    105045                de   \n",
      "838           0    132641                ja   \n",
      "949           4     22649                en   \n",
      "1465          0    105045                de   \n",
      "2564          0     84198                en   \n",
      "4114   16000000     10991                ja   \n",
      "4356    3512454    110428                fr   \n",
      "5130   26000000     15028                en   \n",
      "5535          0     12600                ja   \n",
      "5710          0    109962                en   \n",
      "5865   30000000      4912                en   \n",
      "7345          0      5511                fr   \n",
      "8068          0     23305                en   \n",
      "9165          0      5511                fr   \n",
      "9327          0     23305                en   \n",
      "9576   10000000     69234                en   \n",
      "10419   1600000     14788                en   \n",
      "11155  40000000     77221                en   \n",
      "11342      2500     13209                fa   \n",
      "12066   1600000     14788                en   \n",
      "13220         0    159849                en   \n",
      "13261         0    141971                fi   \n",
      "13375         0    141971                fi   \n",
      "13603         0    168538                en   \n",
      "13946         0     97995                en   \n",
      "14000         0     18440                en   \n",
      "14012         0     11115                en   \n",
      "15074         4     22649                en   \n",
      "15702         0     42495                en   \n",
      "15765      2500     13209                fa   \n",
      "16167         0     99080                en   \n",
      "16764         0    141971                fi   \n",
      "17229         0     25541                da   \n",
      "19890         0    119916                en   \n",
      "19925         0    152795                en   \n",
      "20843  40000000     77221                en   \n",
      "20899         0    109962                en   \n",
      "21116         0     84198                en   \n",
      "21165         0    119916                en   \n",
      "21854         0    152795                en   \n",
      "22151         0     18440                en   \n",
      "23044         0     25541                da   \n",
      "23534   3512454    110428                fr   \n",
      "24164         0    265189                sv   \n",
      "24844         0     11115                en   \n",
      "26625  10000000     69234                en   \n",
      "28860         0    168538                en   \n",
      "29374         0     42495                en   \n",
      "30001         0    132641                ja   \n",
      "33184    980000    298721                th   \n",
      "33743  26000000     15028                en   \n",
      "33826  30000000      4912                en   \n",
      "35798         0    159849                en   \n",
      "38871         0     99080                en   \n",
      "40040    980000    298721                th   \n",
      "40276         0     97995                en   \n",
      "44821  16000000     10991                ja   \n",
      "44826         0     12600                ja   \n",
      "45265         0    265189                sv   \n",
      "\n",
      "                                                overview  popularity  \\\n",
      "676    East-Berlin, 1961, shortly after the erection ...    0.122178   \n",
      "838    Ten years into a marriage, the wife is disappo...    0.096079   \n",
      "949    British nurse Catherine Barkley (Helen Hayes) ...    1.914697   \n",
      "1465   East-Berlin, 1961, shortly after the erection ...    0.122178   \n",
      "2564   Using personal stories, this powerful document...    0.501046   \n",
      "4114   When Molly Hale's sadness of her father's disa...   10.264597   \n",
      "4356   Winter, 1915. Confined by her family to an asy...    0.134014   \n",
      "5130   Until now, Zak Gibbs' greatest challenge has b...    5.373623   \n",
      "5535   All your favorite Pokémon characters are back,...    7.072301   \n",
      "5710   Two literary women compete for 20 years: one w...   12.180836   \n",
      "5865   Television made him famous, but his biggest hi...   11.331072   \n",
      "7345   Hitman Jef Costello is a perfectionist who alw...    9.091288   \n",
      "8068   In feudal India, a warrior (Khan) who renounce...    1.967992   \n",
      "9165   Hitman Jef Costello is a perfectionist who alw...    9.091288   \n",
      "9327   In feudal India, a warrior (Khan) who renounce...    1.967992   \n",
      "9576   Count de Chagnie has discovered Christine's si...    0.441872   \n",
      "10419  Set against the backdrop of a decaying Midwest...    3.185256   \n",
      "11155  On the Arabian Peninsula in the 1930s, two war...    6.652197   \n",
      "11342  Since women are banned from soccer matches, Ir...    1.528960   \n",
      "12066  Set against the backdrop of a decaying Midwest...    3.008299   \n",
      "13220  The third film of Frank Capra's 'Why We Fight\"...    0.473322   \n",
      "13261  Recovering from a nail gun shot to the head an...    0.411949   \n",
      "13375  Recovering from a nail gun shot to the head an...    0.411949   \n",
      "13603  In Zola's Paris, an ingenue arrives at a tony ...    1.276602   \n",
      "13946  After breaking a mirror in his home, superstit...    0.141558   \n",
      "14000  When a comet strikes Earth and kicks up a clou...    1.436085   \n",
      "14012  As an ex-gambler teaches a hot-shot college ki...    6.880365   \n",
      "15074  British nurse Catherine Barkley (Helen Hayes) ...    2.411191   \n",
      "15702  King Lear, old and tired, divides his kingdom ...    0.187901   \n",
      "15765  Since women are banned from soccer matches, Ir...    1.529879   \n",
      "16167  Originally called White Thunder, American prod...    0.002362   \n",
      "16764  Recovering from a nail gun shot to the head an...    0.411949   \n",
      "17229  Former Danish servicemen Lars and Jimmy are th...    2.587911   \n",
      "19890  Prospero, the true Duke of Milan is now living...    0.000018   \n",
      "19925  More than two decades after catapulting to sta...    8.534039   \n",
      "20843  On the Arabian Peninsula in the 1930s, two war...    6.475665   \n",
      "20899  Two literary women compete for 20 years: one w...   10.396878   \n",
      "21116  Using personal stories, this powerful document...    1.673307   \n",
      "21165  Prospero, the true Duke of Milan is now living...    0.000018   \n",
      "21854  More than two decades after catapulting to sta...    8.534039   \n",
      "22151  When a comet strikes Earth and kicks up a clou...    1.436085   \n",
      "23044  Former Danish servicemen Lars and Jimmy are th...    2.587911   \n",
      "23534  Winter, 1915. Confined by her family to an asy...    0.110065   \n",
      "24164  While holidaying in the French Alps, a Swedish...   12.165685   \n",
      "24844  As an ex-gambler teaches a hot-shot college ki...    6.880365   \n",
      "26625  Count de Chagnie has discovered Christine's si...    0.438490   \n",
      "28860  In Zola's Paris, an ingenue arrives at a tony ...    1.276602   \n",
      "29374  King Lear, old and tired, divides his kingdom ...    0.187901   \n",
      "30001  Ten years into a marriage, the wife is disappo...    0.619388   \n",
      "33184  In a hospital, ten soldiers are being treated ...    2.535419   \n",
      "33743  Until now, Zak Gibbs' greatest challenge has b...    4.920175   \n",
      "33826  Television made him famous, but his biggest hi...    7.645827   \n",
      "35798  The third film of Frank Capra's 'Why We Fight\"...    0.473322   \n",
      "38871  Originally called White Thunder, American prod...    0.002362   \n",
      "40040  In a hospital, ten soldiers are being treated ...    2.535419   \n",
      "40276  After breaking a mirror in his home, superstit...    0.141558   \n",
      "44821  When Molly Hale's sadness of her father's disa...    6.480376   \n",
      "44826  All your favorite Pokémon characters are back,...    6.080108   \n",
      "45265  While holidaying in the French Alps, a Swedish...   12.165685   \n",
      "\n",
      "      release_date     revenue  runtime    status  \\\n",
      "676     1995-02-16         0.0    115.0  Released   \n",
      "838     1953-04-29         0.0     89.0  Released   \n",
      "949     1932-12-08        25.0     89.0  Released   \n",
      "1465    1995-02-16         0.0    115.0  Released   \n",
      "2564    2012-03-22         0.0     84.0  Released   \n",
      "4114    2000-07-08  68411275.0     93.0  Released   \n",
      "4356    2013-03-13    115860.0     95.0  Released   \n",
      "5130    2002-03-17  38793283.0     94.0  Released   \n",
      "5535    2001-07-06  28023563.0     75.0  Released   \n",
      "5710    1981-09-23         0.0    115.0  Released   \n",
      "5865    2002-12-30  33013805.0    113.0  Released   \n",
      "7345    1967-10-25     39481.0    105.0  Released   \n",
      "8068    2001-09-23         0.0     86.0  Released   \n",
      "9165    1967-10-25     39481.0    105.0  Released   \n",
      "9327    2001-09-23         0.0     86.0  Released   \n",
      "9576    1990-03-18         0.0    168.0  Released   \n",
      "10419   2005-09-03         0.0     73.0  Released   \n",
      "11155   2011-12-21   5446000.0    130.0  Released   \n",
      "11342   2006-05-26         0.0     93.0  Released   \n",
      "12066   2005-09-03         0.0     73.0  Released   \n",
      "13220   1943-01-01         0.0     57.0  Released   \n",
      "13261   2008-12-26         0.0    108.0  Released   \n",
      "13375   2008-12-26         0.0    108.0  Released   \n",
      "13603   1983-06-13         0.0     92.0  Released   \n",
      "13946   1921-02-06         0.0     62.0  Released   \n",
      "14000   2007-01-01         0.0     89.0  Released   \n",
      "14012   2008-01-29         0.0     85.0  Released   \n",
      "15074   1932-12-08        25.0     89.0  Released   \n",
      "15702   1971-02-04         0.0    137.0   Rumored   \n",
      "15765   2006-05-26         0.0     93.0  Released   \n",
      "16167   1931-06-21         0.0     70.0  Released   \n",
      "16764   2008-12-26         0.0    108.0  Released   \n",
      "17229   2009-10-21         0.0     90.0  Released   \n",
      "19890   1980-02-27         0.0    123.0  Released   \n",
      "19925   2013-05-16    455815.0    122.0  Released   \n",
      "20843   2011-12-21   5446000.0    130.0  Released   \n",
      "20899   1981-09-23         0.0    115.0  Released   \n",
      "21116   2012-03-22         0.0     84.0  Released   \n",
      "21165   1980-02-27         0.0    123.0  Released   \n",
      "21854   2013-05-16    455815.0    122.0  Released   \n",
      "22151   2007-01-01         0.0     89.0  Released   \n",
      "23044   2009-10-21         0.0     90.0  Released   \n",
      "23534   2013-03-13    115860.0     95.0  Released   \n",
      "24164   2014-08-15   1359497.0    118.0  Released   \n",
      "24844   2008-01-29         0.0     85.0  Released   \n",
      "26625   1990-03-18         0.0    168.0  Released   \n",
      "28860   1983-06-13         0.0     92.0  Released   \n",
      "29374   1971-02-04         0.0    137.0   Rumored   \n",
      "30001   1953-04-29         0.0     89.0  Released   \n",
      "33184   2015-09-02         0.0    122.0  Released   \n",
      "33743   2002-03-17  38793283.0     94.0  Released   \n",
      "33826   2002-12-30  33013805.0    113.0  Released   \n",
      "35798   1943-01-01         0.0     57.0  Released   \n",
      "38871   1931-06-21         0.0     70.0  Released   \n",
      "40040   2015-09-02         0.0    122.0  Released   \n",
      "40276   1921-02-06         0.0     62.0  Released   \n",
      "44821   2000-07-08  68411275.0     93.0  Released   \n",
      "44826   2001-07-06  28023563.0     75.0  Released   \n",
      "45265   2014-08-15   1359497.0    118.0  Released   \n",
      "\n",
      "                                                 tagline  ... vote_average  \\\n",
      "676                              A love, a hope, a wall.  ...          5.0   \n",
      "838                                           no summary  ...          0.0   \n",
      "949            Every woman who has loved will understand  ...          6.2   \n",
      "1465                             A love, a hope, a wall.  ...          5.0   \n",
      "2564                               One Nation. Underfed.  ...          6.9   \n",
      "4114                       Pokémon: Spell of the Unknown  ...          6.0   \n",
      "4356                                          no summary  ...          7.0   \n",
      "5130   The adventure of a lifetime, in a few mere sec...  ...          4.9   \n",
      "5535                                          no summary  ...          5.7   \n",
      "5710   From the very beginning, they knew they'd be f...  ...          4.9   \n",
      "5865             Some things are better left top secret.  ...          6.6   \n",
      "7345   There is no solitude greater than that of the ...  ...          7.9   \n",
      "8068                                          no summary  ...          6.3   \n",
      "9165   There is no solitude greater than that of the ...  ...          7.9   \n",
      "9327                                          no summary  ...          6.3   \n",
      "9576                                          no summary  ...          5.0   \n",
      "10419                                         no summary  ...          6.4   \n",
      "11155                                         no summary  ...          5.9   \n",
      "11342                                         no summary  ...          6.7   \n",
      "12066                                         no summary  ...          6.4   \n",
      "13220                                         no summary  ...          5.0   \n",
      "13261  Which one is the first to return - memory or t...  ...          6.7   \n",
      "13375  Which one is the first to return - memory or t...  ...          6.7   \n",
      "13603                                         no summary  ...          4.7   \n",
      "13946                                         no summary  ...          5.6   \n",
      "14000                                         no summary  ...          5.0   \n",
      "14012                                         no summary  ...          5.2   \n",
      "15074          Every woman who has loved will understand  ...          6.2   \n",
      "15702                                         no summary  ...          8.0   \n",
      "15765                                         no summary  ...          6.7   \n",
      "16167  Actually produced during the Great Newfoundlan...  ...          0.0   \n",
      "16764  Which one is the first to return - memory or t...  ...          6.7   \n",
      "17229                                         no summary  ...          7.1   \n",
      "19890                                         no summary  ...          0.0   \n",
      "19925                                         no summary  ...          6.4   \n",
      "20843                                         no summary  ...          5.9   \n",
      "20899  From the very beginning, they knew they'd be f...  ...          4.9   \n",
      "21116                              One Nation. Underfed.  ...          6.9   \n",
      "21165                                         no summary  ...          0.0   \n",
      "21854                                         no summary  ...          6.4   \n",
      "22151                                         no summary  ...          5.0   \n",
      "23044                                         no summary  ...          7.1   \n",
      "23534                                         no summary  ...          7.0   \n",
      "24164                                         no summary  ...          6.8   \n",
      "24844                                         no summary  ...          5.2   \n",
      "26625                                         no summary  ...          5.0   \n",
      "28860                                         no summary  ...          4.7   \n",
      "29374                                         no summary  ...          8.0   \n",
      "30001                                         no summary  ...          0.0   \n",
      "33184                                         no summary  ...          4.4   \n",
      "33743  The adventure of a lifetime, in a few mere sec...  ...          4.9   \n",
      "33826            Some things are better left top secret.  ...          6.6   \n",
      "35798                                         no summary  ...          5.0   \n",
      "38871  Actually produced during the Great Newfoundlan...  ...          0.0   \n",
      "40040                                         no summary  ...          4.4   \n",
      "40276                                         no summary  ...          5.6   \n",
      "44821                      Pokémon: Spell of the Unknown  ...          6.0   \n",
      "44826                                         no summary  ...          5.7   \n",
      "45265                                         no summary  ...          6.8   \n",
      "\n",
      "       vote_count  id_genres           genres  \\\n",
      "676           1.0         80            Crime   \n",
      "838           0.0      10751           Family   \n",
      "949          29.0         12        Adventure   \n",
      "1465          1.0         18            Drama   \n",
      "2564          7.0         18            Drama   \n",
      "4114        143.0         53         Thriller   \n",
      "4356         20.0         28           Action   \n",
      "5130         89.0         27           Horror   \n",
      "5535         82.0         36          History   \n",
      "5710          7.0         35           Comedy   \n",
      "5865        281.0      10749          Romance   \n",
      "7345        187.0      10749          Romance   \n",
      "8068         15.0         80            Crime   \n",
      "9165        187.0       9648          Mystery   \n",
      "9327         15.0         80            Crime   \n",
      "9576          3.0         18            Drama   \n",
      "10419        36.0         28           Action   \n",
      "11155        77.0         28           Action   \n",
      "11342        27.0         53         Thriller   \n",
      "12066        36.0      10749          Romance   \n",
      "13220         1.0         14          Fantasy   \n",
      "13261         3.0         18            Drama   \n",
      "13375         3.0         53         Thriller   \n",
      "13603         3.0         18            Drama   \n",
      "13946         4.0         80            Crime   \n",
      "14000         5.0         80            Crime   \n",
      "14012        22.0      10752              War   \n",
      "15074        29.0      10749          Romance   \n",
      "15702         3.0         18            Drama   \n",
      "15765        27.0         14          Fantasy   \n",
      "16167         0.0         80            Crime   \n",
      "16764         3.0      10749          Romance   \n",
      "17229        21.0      10749          Romance   \n",
      "19890         0.0         35           Comedy   \n",
      "19925       165.0         18            Drama   \n",
      "20843        77.0        878  Science Fiction   \n",
      "20899         7.0         18            Drama   \n",
      "21116         7.0         18            Drama   \n",
      "21165         0.0         28           Action   \n",
      "21854       165.0        878  Science Fiction   \n",
      "22151         5.0         35           Comedy   \n",
      "23044        21.0        878  Science Fiction   \n",
      "23534        20.0         18            Drama   \n",
      "24164       255.0         35           Comedy   \n",
      "24844        22.0         28           Action   \n",
      "26625         3.0      10402            Music   \n",
      "28860         3.0      10751           Family   \n",
      "29374         3.0         12        Adventure   \n",
      "30001         0.0         18            Drama   \n",
      "33184        50.0      10749          Romance   \n",
      "33743        90.0         35           Comedy   \n",
      "33826       281.0      10749          Romance   \n",
      "35798         1.0         35           Comedy   \n",
      "38871         0.0         16        Animation   \n",
      "40040        50.0         18            Drama   \n",
      "40276         4.0         28           Action   \n",
      "44821       144.0      10749          Romance   \n",
      "44826        82.0         12        Adventure   \n",
      "45265       255.0       9648          Mystery   \n",
      "\n",
      "                          production_companies id_production  \\\n",
      "676                            France 3 Cinéma           591   \n",
      "838                                Little Bird         11358   \n",
      "949                         Fine Line Features             8   \n",
      "1465                           France 3 Cinema         16804   \n",
      "2564                              Osiris Films          2019   \n",
      "4114                            Arco Films S.L         55776   \n",
      "4356   De Laurentiis Entertainment Group (DEG)           484   \n",
      "5130                     Home Box Office (HBO)          3268   \n",
      "5535                         Destination Films           769   \n",
      "5710                          CineTel Pictures         17067   \n",
      "5865                             Zeal Pictures         19866   \n",
      "7345                       Working Title Films         10163   \n",
      "8068                              Warner Bros.          6194   \n",
      "9165                 Numb Gums Production Inc.          3840   \n",
      "9327                               Vinyl Films           485   \n",
      "9576                              Warner Bros.          6194   \n",
      "10419                             Dialchi Film         16131   \n",
      "11155      Beijing Zhongbo-Times Film Planning         94943   \n",
      "11342                           Orion Pictures            41   \n",
      "12066   Twentieth Century Fox Film Corporation           306   \n",
      "13220                The Vitaphone Corporation          9329   \n",
      "13261                   Silver Screen Partners           514   \n",
      "13375                  Burg/Koules Productions         17106   \n",
      "13603                     August Entertainment          3322   \n",
      "13946                                      TVO         75168   \n",
      "14000                             Warner Bros.          6194   \n",
      "14012                                Leo Films         18781   \n",
      "15074                             Warner Bros.          6194   \n",
      "15702                York Pictures Corporation          3865   \n",
      "15765                Metro-Goldwyn-Mayer (MGM)          8411   \n",
      "16167                            Winkler Films          8880   \n",
      "16764      National Film Board of Canada (NFB)         17027   \n",
      "17229                                Katharina         22370   \n",
      "19890                Metro-Goldwyn-Mayer (MGM)          8411   \n",
      "19925                Metro-Goldwyn-Mayer (MGM)          8411   \n",
      "20843                     Double Feature Films           215   \n",
      "20899                     Ben Katz Productions          6544   \n",
      "21116   Twentieth Century Fox Film Corporation           306   \n",
      "21165                     Linson Entertainment          4700   \n",
      "21854              Michael De Luca Productions         11370   \n",
      "22151                       RKO Radio Pictures             6   \n",
      "23044                  Hammer Film Productions          1314   \n",
      "23534                           Nu Image Films           925   \n",
      "24164                              Clean Socks          4102   \n",
      "24844                              Pronto Film         22436   \n",
      "26625                           Maverick Films          4000   \n",
      "28860               Robert E. Kent Productions         11735   \n",
      "29374                             Eisei Gekijo          9177   \n",
      "30001          Wiedemann & Berg Filmproduktion           336   \n",
      "33184                            Red Box Films         12840   \n",
      "33743   Polish Corporation for Film Production         47534   \n",
      "33826                                   Canal+          5358   \n",
      "35798                           Nu Image Films           925   \n",
      "38871                  Ingenious Film Partners           289   \n",
      "40040               Chaos Theory Entertainment         16244   \n",
      "40276                            WingNut Films            11   \n",
      "44821                      Working Title Films         10163   \n",
      "44826   Twentieth Century Fox Film Corporation           306   \n",
      "45265                       Paramount Pictures             4   \n",
      "\n",
      "           production_countries spoken_language release_year    return  \n",
      "676    United States of America         English         1995  0.000000  \n",
      "838    United States of America             日本語         1953  0.000000  \n",
      "949    United States of America        Français         1932  6.250000  \n",
      "1465   United States of America         English         1995  0.000000  \n",
      "2564   United States of America        Italiano         2012  0.000000  \n",
      "4114   United States of America         English         2000  4.275705  \n",
      "4356   United States of America        Italiano         2013  0.032985  \n",
      "5130                    Hungary         English         2002  1.492049  \n",
      "5535   United States of America           Dansk         2001  0.000000  \n",
      "5710                     France         English         1981  0.000000  \n",
      "5865                  Hong Kong         English         2002  1.100460  \n",
      "7345                     Canada         English         1967  0.000000  \n",
      "8068                     Brazil         English         2001  0.000000  \n",
      "9165   United States of America         English         1967  0.000000  \n",
      "9327                 Tajikistan       广州话 / 廣州話         2001  0.000000  \n",
      "9576   United States of America         English         1990  0.000000  \n",
      "10419  United States of America         English         2005  0.000000  \n",
      "11155                    Canada         English         2011  0.136150  \n",
      "11342                     Japan        Italiano         2006  0.000000  \n",
      "12066  United States of America          Türkçe         2005  0.000000  \n",
      "13220  United States of America         English         1943  0.000000  \n",
      "13261  United States of America         English         2008  0.000000  \n",
      "13375            United Kingdom         Español         2008  0.000000  \n",
      "13603                  Thailand         Español         1983  0.000000  \n",
      "13946  United States of America         العربية         1921  0.000000  \n",
      "14000                 Australia       Português         2007  0.000000  \n",
      "14012  United States of America         Español         2008  0.000000  \n",
      "15074            United Kingdom         English         1932  6.250000  \n",
      "15702  United States of America         English         1971  0.000000  \n",
      "15765            United Kingdom         English         2006  0.000000  \n",
      "16167  United States of America         English         1931  0.000000  \n",
      "16764                    Poland         English         2008  0.000000  \n",
      "17229  United States of America                         2009  0.000000  \n",
      "19890  United States of America         English         1980  0.000000  \n",
      "19925                   Austria         English         2013  0.000000  \n",
      "20843                   Germany        Français         2011  0.136150  \n",
      "20899  United States of America         English         1981  0.000000  \n",
      "21116                   Iceland         English         2012  0.000000  \n",
      "21165  United States of America         English         1980  0.000000  \n",
      "21854                    Canada         English         2013  0.000000  \n",
      "22151                   Germany         English         2007  0.000000  \n",
      "23044  United States of America         English         2009  0.000000  \n",
      "23534  United States of America         English         2013  0.032985  \n",
      "24164               Switzerland        Français         2014  0.000000  \n",
      "24844  United States of America         English         2008  0.000000  \n",
      "26625                 Argentina           Dansk         1990  0.000000  \n",
      "28860                    Norway         English         1983  0.000000  \n",
      "29374                    France         English         1971  0.000000  \n",
      "30001                    Sweden         English         1953  0.000000  \n",
      "33184            United Kingdom         English         2015  0.000000  \n",
      "33743                    Mexico         English         2002  1.492049  \n",
      "33826                    Canada         English         2002  1.100460  \n",
      "35798                    Canada        Français         1943  0.000000  \n",
      "38871                   Germany         English         1931  0.000000  \n",
      "40040  United States of America             日本語         2015  0.000000  \n",
      "40276                    France        Italiano         1921  0.000000  \n",
      "44821               South Korea          हिन्दी         2000  4.275705  \n",
      "44826  United States of America             普通话         2001  0.000000  \n",
      "45265  United States of America         English         2014  0.000000  \n",
      "\n",
      "[59 rows x 21 columns]\n"
     ]
    }
   ],
   "source": [
    "duplicates = movies[movies.duplicated(subset=['idMovies'], keep=False)]\n",
    "print(duplicates)"
   ]
  },
  {
   "cell_type": "markdown",
   "metadata": {},
   "source": [
    "Duplicados: Tienes 29 películas con duplicados, resultando en un total de 59 registros duplicados.\n",
    "Presupuesto: Hay una gran variabilidad en el presupuesto entre los duplicados, con muchos registros con presupuestos bajos o nulos y algunos con presupuestos muy altos.\n",
    "Idiomas: La mayoría de los registros duplicados están en inglés, con algunos en otros idiomas.\n",
    "Este resumen te ayuda a comprender el impacto y la naturaleza de los registros duplicados en tu dataset y puede guiarte en cómo manejar estos duplicados en tu análisis.\n"
   ]
  },
  {
   "cell_type": "markdown",
   "metadata": {},
   "source": [
    "Se recomienda hacerlo sobre la columna idMovies, que parece ser un identificador único para las películas."
   ]
  },
  {
   "cell_type": "code",
   "execution_count": 114,
   "metadata": {},
   "outputs": [
    {
     "name": "stdout",
     "output_type": "stream",
     "text": [
      "Número de filas después de eliminar duplicados: 45346\n"
     ]
    }
   ],
   "source": [
    "# Eliminar duplicados basados en la columna 'idMovies'\n",
    "movies2 = movies.drop_duplicates(subset='idMovies', keep='first')\n",
    "\n",
    "# Confirmar la eliminación de duplicados\n",
    "print(f\"Número de filas después de eliminar duplicados: {movies2.shape[0]}\")\n"
   ]
  },
  {
   "cell_type": "code",
   "execution_count": 115,
   "metadata": {},
   "outputs": [
    {
     "name": "stdout",
     "output_type": "stream",
     "text": [
      "Duplicados basados en la columna 'idMovies' de la tabla Movies: 0\n"
     ]
    }
   ],
   "source": [
    "# Verificar duplicados basados en la columna 'idMovies' \n",
    "duplicates_by_id = movies2[movies2.duplicated(subset=['idMovies'], keep=False)]\n",
    "\n",
    "# Mostrar duplicados\n",
    "print(\"Duplicados basados en la columna 'idMovies' de la tabla Movies:\", len(duplicates_by_id))\n"
   ]
  },
  {
   "cell_type": "code",
   "execution_count": 116,
   "metadata": {},
   "outputs": [],
   "source": [
    "\n",
    "# Exportar a archivo Parquet usando pyarrow\n",
    "movies2.to_parquet('movies_modificado.parquet', engine='pyarrow')"
   ]
  },
  {
   "cell_type": "markdown",
   "metadata": {},
   "source": [
    "pyarrow es una biblioteca de Python que proporciona herramientas para trabajar con datos en formato Apache Arrow y Parquet.\n",
    "Apache Arrow es un formato en memoria que permite el procesamiento de datos de manera eficiente, mientras que Parquet es un formato de archivo columnar que es ideal para grandes conjuntos de datos."
   ]
  },
  {
   "cell_type": "markdown",
   "metadata": {},
   "source": [
    "ETL DE DATASETS DE CREDITS"
   ]
  },
  {
   "cell_type": "code",
   "execution_count": 118,
   "metadata": {},
   "outputs": [],
   "source": [
    "#Extraer el dataset\n",
    "df_cast = pd.read_csv('Dataset_original/cast_credits.csv', encoding='utf-8')\n",
    "df_crew = pd.read_csv('Dataset_original/crew_credits.csv', encoding='utf-8')"
   ]
  },
  {
   "cell_type": "markdown",
   "metadata": {},
   "source": [
    "1. Primero se trabajara con el dataset de cast que contiene informacion detallada de los actores"
   ]
  },
  {
   "cell_type": "code",
   "execution_count": 158,
   "metadata": {},
   "outputs": [
    {
     "name": "stdout",
     "output_type": "stream",
     "text": [
      "(562474, 9)\n"
     ]
    },
    {
     "data": {
      "text/html": [
       "<div>\n",
       "<style scoped>\n",
       "    .dataframe tbody tr th:only-of-type {\n",
       "        vertical-align: middle;\n",
       "    }\n",
       "\n",
       "    .dataframe tbody tr th {\n",
       "        vertical-align: top;\n",
       "    }\n",
       "\n",
       "    .dataframe thead th {\n",
       "        text-align: right;\n",
       "    }\n",
       "</style>\n",
       "<table border=\"1\" class=\"dataframe\">\n",
       "  <thead>\n",
       "    <tr style=\"text-align: right;\">\n",
       "      <th></th>\n",
       "      <th>cast_cast_id</th>\n",
       "      <th>cast_character</th>\n",
       "      <th>cast_credit_id</th>\n",
       "      <th>cast_gender</th>\n",
       "      <th>cast_id</th>\n",
       "      <th>cast_name</th>\n",
       "      <th>cast_order</th>\n",
       "      <th>cast_profile_path</th>\n",
       "      <th>id</th>\n",
       "    </tr>\n",
       "  </thead>\n",
       "  <tbody>\n",
       "    <tr>\n",
       "      <th>0</th>\n",
       "      <td>14</td>\n",
       "      <td>Woody (voice)</td>\n",
       "      <td>52fe4284c3a36847f8024f95</td>\n",
       "      <td>2</td>\n",
       "      <td>31</td>\n",
       "      <td>Tom Hanks</td>\n",
       "      <td>0</td>\n",
       "      <td>/pQFoyx7rp09CJTAb932F2g8Nlho.jpg</td>\n",
       "      <td>862.0</td>\n",
       "    </tr>\n",
       "  </tbody>\n",
       "</table>\n",
       "</div>"
      ],
      "text/plain": [
       "   cast_cast_id cast_character            cast_credit_id  cast_gender  \\\n",
       "0            14  Woody (voice)  52fe4284c3a36847f8024f95            2   \n",
       "\n",
       "   cast_id  cast_name  cast_order                 cast_profile_path     id  \n",
       "0       31  Tom Hanks           0  /pQFoyx7rp09CJTAb932F2g8Nlho.jpg  862.0  "
      ]
     },
     "execution_count": 158,
     "metadata": {},
     "output_type": "execute_result"
    }
   ],
   "source": [
    "#Imprimir tamaño y encabezados del dataset\n",
    "print(df_cast.shape)\n",
    "df_cast.head(1)"
   ]
  },
  {
   "cell_type": "code",
   "execution_count": 157,
   "metadata": {},
   "outputs": [],
   "source": [
    "# Crear una copia del DataFrame original para no modificarlo directamente\n",
    "cast = df_cast.copy()"
   ]
  },
  {
   "cell_type": "code",
   "execution_count": 159,
   "metadata": {},
   "outputs": [],
   "source": [
    "# Eliminar las columnas que no serán utilizadas\n",
    "columns_to_drop = ['cast_credit_id', 'cast_gender', 'cast_profile_path']\n",
    "cast_df = cast.drop(columns=columns_to_drop)"
   ]
  },
  {
   "cell_type": "code",
   "execution_count": 160,
   "metadata": {},
   "outputs": [
    {
     "data": {
      "text/html": [
       "<div>\n",
       "<style scoped>\n",
       "    .dataframe tbody tr th:only-of-type {\n",
       "        vertical-align: middle;\n",
       "    }\n",
       "\n",
       "    .dataframe tbody tr th {\n",
       "        vertical-align: top;\n",
       "    }\n",
       "\n",
       "    .dataframe thead th {\n",
       "        text-align: right;\n",
       "    }\n",
       "</style>\n",
       "<table border=\"1\" class=\"dataframe\">\n",
       "  <thead>\n",
       "    <tr style=\"text-align: right;\">\n",
       "      <th></th>\n",
       "      <th>cast_id</th>\n",
       "      <th>cast_character</th>\n",
       "      <th>IdActor</th>\n",
       "      <th>name_actor</th>\n",
       "      <th>cast_order</th>\n",
       "      <th>id</th>\n",
       "    </tr>\n",
       "  </thead>\n",
       "  <tbody>\n",
       "    <tr>\n",
       "      <th>0</th>\n",
       "      <td>14</td>\n",
       "      <td>Woody (voice)</td>\n",
       "      <td>31</td>\n",
       "      <td>Tom Hanks</td>\n",
       "      <td>0</td>\n",
       "      <td>862.0</td>\n",
       "    </tr>\n",
       "  </tbody>\n",
       "</table>\n",
       "</div>"
      ],
      "text/plain": [
       "   cast_id cast_character  IdActor name_actor  cast_order     id\n",
       "0       14  Woody (voice)       31  Tom Hanks           0  862.0"
      ]
     },
     "execution_count": 160,
     "metadata": {},
     "output_type": "execute_result"
    }
   ],
   "source": [
    "# Renombrar algunas columnas\n",
    "cast = cast_df.rename(columns={\n",
    "    'cast_cast_id': 'cast_id',\n",
    "    'cast_character\t': 'character',\n",
    "    'cast_id': 'IdActor',\n",
    "    'cast_name': 'name_actor',\n",
    "    \n",
    "})\n",
    "\n",
    "# Verificar las primeras filas del DataFrame para asegurarse de que las columnas han sido renombradas\n",
    "cast.head(1)"
   ]
  },
  {
   "cell_type": "markdown",
   "metadata": {},
   "source": [
    "** Verificacion de los tipos de datos"
   ]
  },
  {
   "cell_type": "code",
   "execution_count": 161,
   "metadata": {},
   "outputs": [
    {
     "name": "stdout",
     "output_type": "stream",
     "text": [
      "cast_id             int64\n",
      "cast_character     object\n",
      "IdActor             int64\n",
      "name_actor         object\n",
      "cast_order          int64\n",
      "id                float64\n",
      "dtype: object\n"
     ]
    }
   ],
   "source": [
    "print(cast.dtypes)"
   ]
  },
  {
   "cell_type": "code",
   "execution_count": 162,
   "metadata": {},
   "outputs": [],
   "source": [
    "# Modificación de id\n",
    "\n",
    "# Renombrar la columna de id\n",
    "cast.rename(columns={'id': 'idMovies'}, inplace=True)\n",
    "\n"
   ]
  },
  {
   "cell_type": "code",
   "execution_count": 163,
   "metadata": {},
   "outputs": [],
   "source": [
    "# Llenar los valores nulos en 'idProduccion' con 0\n",
    "cast['idMovies'] = cast['idMovies'].fillna(0)\n",
    "\n",
    "# Convertir la columna 'idProduccion' a entero\n",
    "cast['idMovies'] = cast['idMovies'].astype(int)"
   ]
  },
  {
   "cell_type": "code",
   "execution_count": 164,
   "metadata": {},
   "outputs": [
    {
     "name": "stdout",
     "output_type": "stream",
     "text": [
      "cast_id            int64\n",
      "cast_character    object\n",
      "IdActor            int64\n",
      "name_actor        object\n",
      "cast_order         int64\n",
      "idMovies           int32\n",
      "dtype: object\n"
     ]
    }
   ],
   "source": [
    "print(cast.dtypes)"
   ]
  },
  {
   "cell_type": "markdown",
   "metadata": {},
   "source": [
    "** Verificacion de campos Nulos"
   ]
  },
  {
   "cell_type": "code",
   "execution_count": 165,
   "metadata": {},
   "outputs": [
    {
     "data": {
      "text/plain": [
       "cast_id               0\n",
       "cast_character    25783\n",
       "IdActor               0\n",
       "name_actor            0\n",
       "cast_order            0\n",
       "idMovies              0\n",
       "dtype: int64"
      ]
     },
     "execution_count": 165,
     "metadata": {},
     "output_type": "execute_result"
    }
   ],
   "source": [
    "#valores nulos\n",
    "cast.isnull().sum()"
   ]
  },
  {
   "cell_type": "code",
   "execution_count": 166,
   "metadata": {},
   "outputs": [],
   "source": [
    "cast['cast_character'] = cast['cast_character'].fillna('unknown')\n"
   ]
  },
  {
   "cell_type": "code",
   "execution_count": 167,
   "metadata": {},
   "outputs": [
    {
     "data": {
      "text/plain": [
       "cast_id           0\n",
       "cast_character    0\n",
       "IdActor           0\n",
       "name_actor        0\n",
       "cast_order        0\n",
       "idMovies          0\n",
       "dtype: int64"
      ]
     },
     "execution_count": 167,
     "metadata": {},
     "output_type": "execute_result"
    }
   ],
   "source": [
    "#valores nulos\n",
    "cast.isnull().sum()"
   ]
  },
  {
   "cell_type": "markdown",
   "metadata": {},
   "source": [
    "** Verificar los campos duplicados"
   ]
  },
  {
   "cell_type": "code",
   "execution_count": 168,
   "metadata": {},
   "outputs": [
    {
     "name": "stdout",
     "output_type": "stream",
     "text": [
      "Número de duplicados en cast_credits: 517085\n"
     ]
    }
   ],
   "source": [
    "# Verificar duplicados en 'cast_credits'\n",
    "cast_duplicados = cast.duplicated(subset='idMovies', keep=False)\n",
    "print(f\"Número de duplicados en cast_credits: {cast_duplicados.sum()}\")"
   ]
  },
  {
   "cell_type": "markdown",
   "metadata": {},
   "source": [
    "La acción en este casos es eliminar los duplicados directos, ya que tener múltiples entradas idénticas para una película y un actor puede sesgar tu sistema de recomendación, haciendo que ciertas películas o actores parezcan más relevantes de lo que realmente son."
   ]
  },
  {
   "cell_type": "code",
   "execution_count": 169,
   "metadata": {},
   "outputs": [],
   "source": [
    "# Eliminar duplicados basados en 'idMovies'\n",
    "actors_df = cast.drop_duplicates(subset=['idMovies'])\n"
   ]
  },
  {
   "cell_type": "code",
   "execution_count": 170,
   "metadata": {},
   "outputs": [
    {
     "name": "stdout",
     "output_type": "stream",
     "text": [
      "(45345, 6)\n"
     ]
    }
   ],
   "source": [
    "\n",
    "# Filtrar el dataset de actores para mantener solo las películas que están en el dataset de movies\n",
    "filtered_actors_df = actors_df[actors_df['idMovies'].isin(movies['idMovies'])]\n",
    "\n",
    "# Verificar el tamaño del dataset filtrado\n",
    "print(filtered_actors_df.shape)"
   ]
  },
  {
   "cell_type": "code",
   "execution_count": 171,
   "metadata": {},
   "outputs": [
    {
     "name": "stdout",
     "output_type": "stream",
     "text": [
      "Tamaño del dataset de películas: (45376, 21)\n",
      "Tamaño después de filtrar actores: (45345, 6)\n"
     ]
    }
   ],
   "source": [
    "# Verificar tamaños\n",
    "print(\"Tamaño del dataset de películas:\", movies.shape)\n",
    "print(\"Tamaño después de filtrar actores:\", filtered_actors_df.shape)"
   ]
  },
  {
   "cell_type": "code",
   "execution_count": 189,
   "metadata": {},
   "outputs": [
    {
     "name": "stdout",
     "output_type": "stream",
     "text": [
      "Cantidad de idMovies en movies.csv pero no en filtered_actors_df: 1\n"
     ]
    }
   ],
   "source": [
    "# Verificar diferencias\n",
    "missing_movies_ids = set(movies['idMovies']) - set(actors_df['idMovies'])\n",
    "print(f\"Cantidad de idMovies en movies.csv pero no en filtered_actors_df: {len(missing_movies_ids)}\")\n"
   ]
  },
  {
   "cell_type": "code",
   "execution_count": null,
   "metadata": {},
   "outputs": [],
   "source": []
  },
  {
   "cell_type": "code",
   "execution_count": 190,
   "metadata": {},
   "outputs": [],
   "source": [
    "\n",
    "# Exportar a archivo Parquet usando pyarrow\n",
    "actors_df.to_parquet('credits_cast.parquet', engine='pyarrow')"
   ]
  },
  {
   "cell_type": "markdown",
   "metadata": {},
   "source": [
    "2. ETL DE DATASET DE CREW_CREDITS"
   ]
  },
  {
   "cell_type": "markdown",
   "metadata": {},
   "source": [
    "** Primero se trabajara con el dataset de cast que contiene informacion detallada de los actores"
   ]
  },
  {
   "cell_type": "code",
   "execution_count": 155,
   "metadata": {},
   "outputs": [
    {
     "name": "stdout",
     "output_type": "stream",
     "text": [
      "(464314, 8)\n"
     ]
    },
    {
     "data": {
      "text/html": [
       "<div>\n",
       "<style scoped>\n",
       "    .dataframe tbody tr th:only-of-type {\n",
       "        vertical-align: middle;\n",
       "    }\n",
       "\n",
       "    .dataframe tbody tr th {\n",
       "        vertical-align: top;\n",
       "    }\n",
       "\n",
       "    .dataframe thead th {\n",
       "        text-align: right;\n",
       "    }\n",
       "</style>\n",
       "<table border=\"1\" class=\"dataframe\">\n",
       "  <thead>\n",
       "    <tr style=\"text-align: right;\">\n",
       "      <th></th>\n",
       "      <th>crew_credit_id</th>\n",
       "      <th>crew_department</th>\n",
       "      <th>crew_gender</th>\n",
       "      <th>crew_id</th>\n",
       "      <th>crew_job</th>\n",
       "      <th>crew_name</th>\n",
       "      <th>crew_profile_path</th>\n",
       "      <th>id</th>\n",
       "    </tr>\n",
       "  </thead>\n",
       "  <tbody>\n",
       "    <tr>\n",
       "      <th>0</th>\n",
       "      <td>52fe4284c3a36847f8024f49</td>\n",
       "      <td>Directing</td>\n",
       "      <td>2</td>\n",
       "      <td>7879</td>\n",
       "      <td>Director</td>\n",
       "      <td>John Lasseter</td>\n",
       "      <td>/7EdqiNbr4FRjIhKHyPPdFfEEEFG.jpg</td>\n",
       "      <td>862.0</td>\n",
       "    </tr>\n",
       "  </tbody>\n",
       "</table>\n",
       "</div>"
      ],
      "text/plain": [
       "             crew_credit_id crew_department  crew_gender  crew_id  crew_job  \\\n",
       "0  52fe4284c3a36847f8024f49       Directing            2     7879  Director   \n",
       "\n",
       "       crew_name                 crew_profile_path     id  \n",
       "0  John Lasseter  /7EdqiNbr4FRjIhKHyPPdFfEEEFG.jpg  862.0  "
      ]
     },
     "execution_count": 155,
     "metadata": {},
     "output_type": "execute_result"
    }
   ],
   "source": [
    "#Imprimir tamaño y encabezados del dataset\n",
    "print(df_crew.shape)\n",
    "df_crew.head(1)"
   ]
  },
  {
   "cell_type": "code",
   "execution_count": 156,
   "metadata": {},
   "outputs": [],
   "source": [
    "# Crear una copia del DataFrame original para no modificarlo directamente\n",
    "crew = df_crew.copy()"
   ]
  },
  {
   "cell_type": "code",
   "execution_count": 174,
   "metadata": {},
   "outputs": [],
   "source": [
    "# Eliminar las columnas que no serán utilizadas\n",
    "columns_to_drop = ['crew_credit_id', 'crew_gender', 'crew_profile_path']\n",
    "crew_df = crew.drop(columns=columns_to_drop)"
   ]
  },
  {
   "cell_type": "code",
   "execution_count": 176,
   "metadata": {},
   "outputs": [
    {
     "data": {
      "text/html": [
       "<div>\n",
       "<style scoped>\n",
       "    .dataframe tbody tr th:only-of-type {\n",
       "        vertical-align: middle;\n",
       "    }\n",
       "\n",
       "    .dataframe tbody tr th {\n",
       "        vertical-align: top;\n",
       "    }\n",
       "\n",
       "    .dataframe thead th {\n",
       "        text-align: right;\n",
       "    }\n",
       "</style>\n",
       "<table border=\"1\" class=\"dataframe\">\n",
       "  <thead>\n",
       "    <tr style=\"text-align: right;\">\n",
       "      <th></th>\n",
       "      <th>crew_department</th>\n",
       "      <th>crew_id</th>\n",
       "      <th>crew_job</th>\n",
       "      <th>crew_name</th>\n",
       "      <th>id</th>\n",
       "    </tr>\n",
       "  </thead>\n",
       "  <tbody>\n",
       "    <tr>\n",
       "      <th>0</th>\n",
       "      <td>Directing</td>\n",
       "      <td>7879</td>\n",
       "      <td>Director</td>\n",
       "      <td>John Lasseter</td>\n",
       "      <td>862.0</td>\n",
       "    </tr>\n",
       "  </tbody>\n",
       "</table>\n",
       "</div>"
      ],
      "text/plain": [
       "  crew_department  crew_id  crew_job      crew_name     id\n",
       "0       Directing     7879  Director  John Lasseter  862.0"
      ]
     },
     "execution_count": 176,
     "metadata": {},
     "output_type": "execute_result"
    }
   ],
   "source": [
    "crew_df.head(1)"
   ]
  },
  {
   "cell_type": "markdown",
   "metadata": {},
   "source": [
    "** Verificacion de los tipos de datos"
   ]
  },
  {
   "cell_type": "code",
   "execution_count": 177,
   "metadata": {},
   "outputs": [
    {
     "name": "stdout",
     "output_type": "stream",
     "text": [
      "crew_department     object\n",
      "crew_id              int64\n",
      "crew_job            object\n",
      "crew_name           object\n",
      "id                 float64\n",
      "dtype: object\n"
     ]
    }
   ],
   "source": [
    "print(crew_df.dtypes)"
   ]
  },
  {
   "cell_type": "code",
   "execution_count": 178,
   "metadata": {},
   "outputs": [],
   "source": [
    "\n",
    "# Modificación de id\n",
    "\n",
    "# Renombrar la columna 'A' a 'Columna1'\n",
    "crew_df.rename(columns={'id': 'idMovies'}, inplace=True)\n",
    "\n"
   ]
  },
  {
   "cell_type": "code",
   "execution_count": 180,
   "metadata": {},
   "outputs": [],
   "source": [
    "# Llenar los valores nulos en 'idMovies' con 0\n",
    "crew_df['idMovies'] = crew_df['idMovies'].fillna(0)\n",
    "\n",
    "# Convertir la columna 'idProduccion' a entero\n",
    "crew_df['idMovies'] = crew_df['idMovies'].astype(int)"
   ]
  },
  {
   "cell_type": "code",
   "execution_count": 181,
   "metadata": {},
   "outputs": [
    {
     "name": "stdout",
     "output_type": "stream",
     "text": [
      "crew_department    object\n",
      "crew_id             int64\n",
      "crew_job           object\n",
      "crew_name          object\n",
      "idMovies            int32\n",
      "dtype: object\n"
     ]
    }
   ],
   "source": [
    "print(crew_df.dtypes)"
   ]
  },
  {
   "cell_type": "markdown",
   "metadata": {},
   "source": [
    "** Verificacion de campos Nulos"
   ]
  },
  {
   "cell_type": "code",
   "execution_count": 182,
   "metadata": {},
   "outputs": [
    {
     "data": {
      "text/plain": [
       "crew_department    0\n",
       "crew_id            0\n",
       "crew_job           0\n",
       "crew_name          0\n",
       "idMovies           0\n",
       "dtype: int64"
      ]
     },
     "execution_count": 182,
     "metadata": {},
     "output_type": "execute_result"
    }
   ],
   "source": [
    "#valores nulos\n",
    "crew_df.isnull().sum()"
   ]
  },
  {
   "cell_type": "markdown",
   "metadata": {},
   "source": [
    "** Verificar los campos duplicados"
   ]
  },
  {
   "cell_type": "code",
   "execution_count": 183,
   "metadata": {},
   "outputs": [
    {
     "name": "stdout",
     "output_type": "stream",
     "text": [
      "Número de duplicados en cast_credits: 418925\n"
     ]
    }
   ],
   "source": [
    "# Verificar duplicados en 'crew_credits'\n",
    "crew_duplicados = crew_df.duplicated(subset='idMovies', keep=False)\n",
    "print(f\"Número de duplicados en cast_credits: {crew_duplicados.sum()}\")"
   ]
  },
  {
   "cell_type": "code",
   "execution_count": 184,
   "metadata": {},
   "outputs": [],
   "source": [
    "# Eliminar duplicados basados en 'idMovies'\n",
    "crew = crew_df.drop_duplicates(subset=['idMovies'])"
   ]
  },
  {
   "cell_type": "code",
   "execution_count": 185,
   "metadata": {},
   "outputs": [
    {
     "name": "stdout",
     "output_type": "stream",
     "text": [
      "(45345, 5)\n"
     ]
    }
   ],
   "source": [
    "\n",
    "# Filtrar el dataset de reparto para mantener solo las películas que están en el dataset de movies\n",
    "filtered_crew = crew[crew['idMovies'].isin(movies['idMovies'])]\n",
    "\n",
    "# Verificar el tamaño del dataset filtrado\n",
    "print(filtered_crew.shape)"
   ]
  },
  {
   "cell_type": "code",
   "execution_count": 186,
   "metadata": {},
   "outputs": [
    {
     "name": "stdout",
     "output_type": "stream",
     "text": [
      "Tamaño del dataset de películas: (45376, 21)\n",
      "Tamaño después de filtrar actores: (45345, 5)\n"
     ]
    }
   ],
   "source": [
    "# Verificar tamaños\n",
    "print(\"Tamaño del dataset de películas:\", movies.shape)\n",
    "print(\"Tamaño después de filtrar actores:\", filtered_crew.shape)"
   ]
  },
  {
   "cell_type": "code",
   "execution_count": 191,
   "metadata": {},
   "outputs": [
    {
     "name": "stdout",
     "output_type": "stream",
     "text": [
      "Cantidad de idMovies en movies.csv pero no en filtered_actors_df: 1\n"
     ]
    }
   ],
   "source": [
    "# Verificar diferencias\n",
    "missing_movies_ids = set(movies['idMovies']) - set(crew['idMovies'])\n",
    "print(f\"Cantidad de idMovies en movies.csv pero no en filtered_actors_df: {len(missing_movies_ids)}\")"
   ]
  },
  {
   "cell_type": "code",
   "execution_count": null,
   "metadata": {},
   "outputs": [],
   "source": []
  },
  {
   "cell_type": "code",
   "execution_count": 192,
   "metadata": {},
   "outputs": [],
   "source": [
    "\n",
    "# Exportar a archivo Parquet usando pyarrow\n",
    "crew.to_parquet('credits_crew.parquet', engine='pyarrow')"
   ]
  }
 ],
 "metadata": {
  "kernelspec": {
   "display_name": "Python 3",
   "language": "python",
   "name": "python3"
  },
  "language_info": {
   "codemirror_mode": {
    "name": "ipython",
    "version": 3
   },
   "file_extension": ".py",
   "mimetype": "text/x-python",
   "name": "python",
   "nbconvert_exporter": "python",
   "pygments_lexer": "ipython3",
   "version": "3.12.3"
  }
 },
 "nbformat": 4,
 "nbformat_minor": 2
}
