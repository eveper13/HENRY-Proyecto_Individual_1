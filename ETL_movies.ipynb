{
 "cells": [
  {
   "cell_type": "markdown",
   "metadata": {},
   "source": [
    "aqui especificar el ETL y hago los requerimientos que me piden en el readme del github... acomodar introduccion"
   ]
  },
  {
   "cell_type": "code",
   "execution_count": 145,
   "metadata": {},
   "outputs": [],
   "source": [
    "# Importar las bibliotecas necesarias\n",
    "import numpy as np\n",
    "import pandas as pd\n",
    "import json\n",
    "import ast"
   ]
  },
  {
   "cell_type": "code",
   "execution_count": 146,
   "metadata": {},
   "outputs": [
    {
     "name": "stderr",
     "output_type": "stream",
     "text": [
      "C:\\Users\\evely\\AppData\\Local\\Temp\\ipykernel_14400\\3148652920.py:2: DtypeWarning: Columns (10) have mixed types. Specify dtype option on import or set low_memory=False.\n",
      "  df_movies = pd.read_csv('Dataset/movies_dataset.csv', encoding='utf-8')\n"
     ]
    }
   ],
   "source": [
    "#Extraer el dataset\n",
    "df_movies = pd.read_csv('Dataset/movies_dataset.csv', encoding='utf-8')"
   ]
  },
  {
   "cell_type": "code",
   "execution_count": 147,
   "metadata": {},
   "outputs": [
    {
     "name": "stdout",
     "output_type": "stream",
     "text": [
      "(45466, 24)\n"
     ]
    },
    {
     "data": {
      "text/html": [
       "<div>\n",
       "<style scoped>\n",
       "    .dataframe tbody tr th:only-of-type {\n",
       "        vertical-align: middle;\n",
       "    }\n",
       "\n",
       "    .dataframe tbody tr th {\n",
       "        vertical-align: top;\n",
       "    }\n",
       "\n",
       "    .dataframe thead th {\n",
       "        text-align: right;\n",
       "    }\n",
       "</style>\n",
       "<table border=\"1\" class=\"dataframe\">\n",
       "  <thead>\n",
       "    <tr style=\"text-align: right;\">\n",
       "      <th></th>\n",
       "      <th>adult</th>\n",
       "      <th>belongs_to_collection</th>\n",
       "      <th>budget</th>\n",
       "      <th>genres</th>\n",
       "      <th>homepage</th>\n",
       "      <th>id</th>\n",
       "      <th>imdb_id</th>\n",
       "      <th>original_language</th>\n",
       "      <th>original_title</th>\n",
       "      <th>overview</th>\n",
       "      <th>...</th>\n",
       "      <th>release_date</th>\n",
       "      <th>revenue</th>\n",
       "      <th>runtime</th>\n",
       "      <th>spoken_languages</th>\n",
       "      <th>status</th>\n",
       "      <th>tagline</th>\n",
       "      <th>title</th>\n",
       "      <th>video</th>\n",
       "      <th>vote_average</th>\n",
       "      <th>vote_count</th>\n",
       "    </tr>\n",
       "  </thead>\n",
       "  <tbody>\n",
       "    <tr>\n",
       "      <th>0</th>\n",
       "      <td>False</td>\n",
       "      <td>{'id': 10194, 'name': 'Toy Story Collection', ...</td>\n",
       "      <td>30000000</td>\n",
       "      <td>[{'id': 16, 'name': 'Animation'}, {'id': 35, '...</td>\n",
       "      <td>http://toystory.disney.com/toy-story</td>\n",
       "      <td>862</td>\n",
       "      <td>tt0114709</td>\n",
       "      <td>en</td>\n",
       "      <td>Toy Story</td>\n",
       "      <td>Led by Woody, Andy's toys live happily in his ...</td>\n",
       "      <td>...</td>\n",
       "      <td>1995-10-30</td>\n",
       "      <td>373554033.0</td>\n",
       "      <td>81.0</td>\n",
       "      <td>[{'iso_639_1': 'en', 'name': 'English'}]</td>\n",
       "      <td>Released</td>\n",
       "      <td>NaN</td>\n",
       "      <td>Toy Story</td>\n",
       "      <td>False</td>\n",
       "      <td>7.7</td>\n",
       "      <td>5415.0</td>\n",
       "    </tr>\n",
       "  </tbody>\n",
       "</table>\n",
       "<p>1 rows × 24 columns</p>\n",
       "</div>"
      ],
      "text/plain": [
       "   adult                              belongs_to_collection    budget  \\\n",
       "0  False  {'id': 10194, 'name': 'Toy Story Collection', ...  30000000   \n",
       "\n",
       "                                              genres  \\\n",
       "0  [{'id': 16, 'name': 'Animation'}, {'id': 35, '...   \n",
       "\n",
       "                               homepage   id    imdb_id original_language  \\\n",
       "0  http://toystory.disney.com/toy-story  862  tt0114709                en   \n",
       "\n",
       "  original_title                                           overview  ...  \\\n",
       "0      Toy Story  Led by Woody, Andy's toys live happily in his ...  ...   \n",
       "\n",
       "  release_date      revenue runtime                          spoken_languages  \\\n",
       "0   1995-10-30  373554033.0    81.0  [{'iso_639_1': 'en', 'name': 'English'}]   \n",
       "\n",
       "     status  tagline      title  video vote_average vote_count  \n",
       "0  Released      NaN  Toy Story  False          7.7     5415.0  \n",
       "\n",
       "[1 rows x 24 columns]"
      ]
     },
     "execution_count": 147,
     "metadata": {},
     "output_type": "execute_result"
    }
   ],
   "source": [
    "#ojo del video de mateo\n",
    "print(df_movies.shape)\n",
    "df_movies.head(1)"
   ]
  },
  {
   "cell_type": "code",
   "execution_count": 148,
   "metadata": {},
   "outputs": [],
   "source": [
    "\n",
    "# Crear una copia del DataFrame original para no modificarlo directamente\n",
    "df = df_movies.copy()\n"
   ]
  },
  {
   "cell_type": "code",
   "execution_count": 149,
   "metadata": {},
   "outputs": [
    {
     "name": "stdout",
     "output_type": "stream",
     "text": [
      "0        {'id': 10194, 'name': 'Toy Story Collection', ...\n",
      "1                                                      NaN\n",
      "2        {'id': 119050, 'name': 'Grumpy Old Men Collect...\n",
      "3                                                      NaN\n",
      "4        {'id': 96871, 'name': 'Father of the Bride Col...\n",
      "                               ...                        \n",
      "45461                                                  NaN\n",
      "45462                                                  NaN\n",
      "45463                                                  NaN\n",
      "45464                                                  NaN\n",
      "45465                                                  NaN\n",
      "Name: belongs_to_collection, Length: 45466, dtype: object\n"
     ]
    }
   ],
   "source": [
    "# Mostrar solo la columna 'belongs_to_collection'\n",
    "print(df['belongs_to_collection'])"
   ]
  },
  {
   "cell_type": "code",
   "execution_count": 150,
   "metadata": {},
   "outputs": [
    {
     "name": "stdout",
     "output_type": "stream",
     "text": [
      "   adult    budget                                             genres  \\\n",
      "0  False  30000000  [{'id': 16, 'name': 'Animation'}, {'id': 35, '...   \n",
      "1  False  65000000  [{'id': 12, 'name': 'Adventure'}, {'id': 14, '...   \n",
      "2  False         0  [{'id': 10749, 'name': 'Romance'}, {'id': 35, ...   \n",
      "3  False  16000000  [{'id': 35, 'name': 'Comedy'}, {'id': 18, 'nam...   \n",
      "4  False         0                     [{'id': 35, 'name': 'Comedy'}]   \n",
      "\n",
      "                               homepage     id    imdb_id original_language  \\\n",
      "0  http://toystory.disney.com/toy-story    862  tt0114709                en   \n",
      "1                                   NaN   8844  tt0113497                en   \n",
      "2                                   NaN  15602  tt0113228                en   \n",
      "3                                   NaN  31357  tt0114885                en   \n",
      "4                                   NaN  11862  tt0113041                en   \n",
      "\n",
      "                original_title  \\\n",
      "0                    Toy Story   \n",
      "1                      Jumanji   \n",
      "2             Grumpier Old Men   \n",
      "3            Waiting to Exhale   \n",
      "4  Father of the Bride Part II   \n",
      "\n",
      "                                            overview popularity  ... runtime  \\\n",
      "0  Led by Woody, Andy's toys live happily in his ...  21.946943  ...    81.0   \n",
      "1  When siblings Judy and Peter discover an encha...  17.015539  ...   104.0   \n",
      "2  A family wedding reignites the ancient feud be...    11.7129  ...   101.0   \n",
      "3  Cheated on, mistreated and stepped on, the wom...   3.859495  ...   127.0   \n",
      "4  Just when George Banks has recovered from his ...   8.387519  ...   106.0   \n",
      "\n",
      "                                    spoken_languages    status  \\\n",
      "0           [{'iso_639_1': 'en', 'name': 'English'}]  Released   \n",
      "1  [{'iso_639_1': 'en', 'name': 'English'}, {'iso...  Released   \n",
      "2           [{'iso_639_1': 'en', 'name': 'English'}]  Released   \n",
      "3           [{'iso_639_1': 'en', 'name': 'English'}]  Released   \n",
      "4           [{'iso_639_1': 'en', 'name': 'English'}]  Released   \n",
      "\n",
      "                                             tagline  \\\n",
      "0                                                NaN   \n",
      "1          Roll the dice and unleash the excitement!   \n",
      "2  Still Yelling. Still Fighting. Still Ready for...   \n",
      "3  Friends are the people who let you be yourself...   \n",
      "4  Just When His World Is Back To Normal... He's ...   \n",
      "\n",
      "                         title  video vote_average vote_count idCollection  \\\n",
      "0                    Toy Story  False          7.7     5415.0      10194.0   \n",
      "1                      Jumanji  False          6.9     2413.0          NaN   \n",
      "2             Grumpier Old Men  False          6.5       92.0     119050.0   \n",
      "3            Waiting to Exhale  False          6.1       34.0          NaN   \n",
      "4  Father of the Bride Part II  False          5.7      173.0      96871.0   \n",
      "\n",
      "                  name_collection  \n",
      "0            Toy Story Collection  \n",
      "1                            None  \n",
      "2       Grumpy Old Men Collection  \n",
      "3                            None  \n",
      "4  Father of the Bride Collection  \n",
      "\n",
      "[5 rows x 25 columns]\n"
     ]
    }
   ],
   "source": [
    "# Función para desanidar el campo usando ast.literal_eval para la columna belongs_to_collection\n",
    "def expand_collection(df, belongs_to_collection):\n",
    "    def safe_literal_eval(x):\n",
    "        if pd.isna(x) or x == '':\n",
    "            return {}\n",
    "        try:\n",
    "            # Usar ast.literal_eval para convertir la cadena en diccionario\n",
    "            data = ast.literal_eval(x)\n",
    "            if isinstance(data, dict):\n",
    "                return data\n",
    "            return {}\n",
    "        except (ValueError, SyntaxError):\n",
    "            return {}\n",
    "    \n",
    "    # Aplicar la función para convertir los valores\n",
    "    df[belongs_to_collection] = df[belongs_to_collection].apply(safe_literal_eval)\n",
    "    \n",
    "    # Crear nuevas columnas a partir del diccionario\n",
    "    # solo se extrae informacion necesaria de esta columna\n",
    "    df['idCollection'] = df[belongs_to_collection].apply(lambda x: x.get('id'))\n",
    "    df['name_collection'] = df[belongs_to_collection].apply(lambda x: x.get('name'))\n",
    "    \n",
    "    return df.drop(columns=[belongs_to_collection])\n",
    "\n",
    "# Aplicar la función\n",
    "movies = expand_collection(df, 'belongs_to_collection')\n",
    "\n",
    "# Mostrar las primeras filas para verificar\n",
    "print(movies.head())\n"
   ]
  },
  {
   "cell_type": "code",
   "execution_count": 151,
   "metadata": {},
   "outputs": [
    {
     "data": {
      "text/html": [
       "<div>\n",
       "<style scoped>\n",
       "    .dataframe tbody tr th:only-of-type {\n",
       "        vertical-align: middle;\n",
       "    }\n",
       "\n",
       "    .dataframe tbody tr th {\n",
       "        vertical-align: top;\n",
       "    }\n",
       "\n",
       "    .dataframe thead th {\n",
       "        text-align: right;\n",
       "    }\n",
       "</style>\n",
       "<table border=\"1\" class=\"dataframe\">\n",
       "  <thead>\n",
       "    <tr style=\"text-align: right;\">\n",
       "      <th></th>\n",
       "      <th>adult</th>\n",
       "      <th>budget</th>\n",
       "      <th>genres</th>\n",
       "      <th>homepage</th>\n",
       "      <th>id</th>\n",
       "      <th>imdb_id</th>\n",
       "      <th>original_language</th>\n",
       "      <th>original_title</th>\n",
       "      <th>overview</th>\n",
       "      <th>popularity</th>\n",
       "      <th>...</th>\n",
       "      <th>runtime</th>\n",
       "      <th>spoken_languages</th>\n",
       "      <th>status</th>\n",
       "      <th>tagline</th>\n",
       "      <th>title</th>\n",
       "      <th>video</th>\n",
       "      <th>vote_average</th>\n",
       "      <th>vote_count</th>\n",
       "      <th>idCollection</th>\n",
       "      <th>name_collection</th>\n",
       "    </tr>\n",
       "  </thead>\n",
       "  <tbody>\n",
       "    <tr>\n",
       "      <th>0</th>\n",
       "      <td>False</td>\n",
       "      <td>30000000</td>\n",
       "      <td>[{'id': 16, 'name': 'Animation'}, {'id': 35, '...</td>\n",
       "      <td>http://toystory.disney.com/toy-story</td>\n",
       "      <td>862</td>\n",
       "      <td>tt0114709</td>\n",
       "      <td>en</td>\n",
       "      <td>Toy Story</td>\n",
       "      <td>Led by Woody, Andy's toys live happily in his ...</td>\n",
       "      <td>21.946943</td>\n",
       "      <td>...</td>\n",
       "      <td>81.0</td>\n",
       "      <td>[{'iso_639_1': 'en', 'name': 'English'}]</td>\n",
       "      <td>Released</td>\n",
       "      <td>NaN</td>\n",
       "      <td>Toy Story</td>\n",
       "      <td>False</td>\n",
       "      <td>7.7</td>\n",
       "      <td>5415.0</td>\n",
       "      <td>10194.0</td>\n",
       "      <td>Toy Story Collection</td>\n",
       "    </tr>\n",
       "  </tbody>\n",
       "</table>\n",
       "<p>1 rows × 25 columns</p>\n",
       "</div>"
      ],
      "text/plain": [
       "   adult    budget                                             genres  \\\n",
       "0  False  30000000  [{'id': 16, 'name': 'Animation'}, {'id': 35, '...   \n",
       "\n",
       "                               homepage   id    imdb_id original_language  \\\n",
       "0  http://toystory.disney.com/toy-story  862  tt0114709                en   \n",
       "\n",
       "  original_title                                           overview  \\\n",
       "0      Toy Story  Led by Woody, Andy's toys live happily in his ...   \n",
       "\n",
       "  popularity  ... runtime                          spoken_languages    status  \\\n",
       "0  21.946943  ...    81.0  [{'iso_639_1': 'en', 'name': 'English'}]  Released   \n",
       "\n",
       "  tagline      title  video vote_average vote_count idCollection  \\\n",
       "0     NaN  Toy Story  False          7.7     5415.0      10194.0   \n",
       "\n",
       "        name_collection  \n",
       "0  Toy Story Collection  \n",
       "\n",
       "[1 rows x 25 columns]"
      ]
     },
     "execution_count": 151,
     "metadata": {},
     "output_type": "execute_result"
    }
   ],
   "source": [
    "movies.head(1)"
   ]
  },
  {
   "cell_type": "markdown",
   "metadata": {},
   "source": [
    "Ahora se procede a desanidar las demas columnas "
   ]
  },
  {
   "cell_type": "code",
   "execution_count": 152,
   "metadata": {},
   "outputs": [],
   "source": [
    "# Desanidar columnas del dataframe \n",
    "\n",
    "# Lista de columnas anidadas a desanidar\n",
    "columnas_anidadas = ['genres', 'production_companies', 'production_countries', 'spoken_languages']\n",
    "\n",
    "# Función para desanidar columnas que contienen listas de diccionarios\n",
    "def desanidar_columna(df, columna):\n",
    "    # Convertir cadenas de texto en listas/diccionarios si es necesario\n",
    "    df[columna] = df[columna].apply(lambda x: ast.literal_eval(x) if isinstance(x, str) else x)\n",
    "    \n",
    "    # Desanidar según el tipo de datos en la columna\n",
    "    if df[columna].apply(lambda x: isinstance(x, list)).any():\n",
    "        # Para columnas con listas de diccionarios\n",
    "        desanidado = pd.json_normalize(df[columna].explode().dropna()).reset_index(drop=True)\n",
    "    else:\n",
    "        # Para columnas con diccionarios simples\n",
    "        desanidado = pd.json_normalize(df[columna].dropna()).reset_index(drop=True)\n",
    "    \n",
    "    # Renombrar las columnas desanidadas\n",
    "    desanidado.columns = [f\"{columna}_{subcol}\" for subcol in desanidado.columns]\n",
    "    \n",
    "    # Unir las columnas desanidadas al DataFrame original\n",
    "    df = df.drop(columns=[columna]).join(desanidado)\n",
    "    return df\n",
    "\n",
    "# Desanidar columnas que contienen listas de diccionarios\n",
    "for columna in ['genres', 'production_companies', 'production_countries', 'spoken_languages']:\n",
    "    movies = desanidar_columna(movies, columna)\n"
   ]
  },
  {
   "cell_type": "code",
   "execution_count": 153,
   "metadata": {},
   "outputs": [
    {
     "name": "stdout",
     "output_type": "stream",
     "text": [
      "(45466, 29)\n"
     ]
    },
    {
     "data": {
      "text/html": [
       "<div>\n",
       "<style scoped>\n",
       "    .dataframe tbody tr th:only-of-type {\n",
       "        vertical-align: middle;\n",
       "    }\n",
       "\n",
       "    .dataframe tbody tr th {\n",
       "        vertical-align: top;\n",
       "    }\n",
       "\n",
       "    .dataframe thead th {\n",
       "        text-align: right;\n",
       "    }\n",
       "</style>\n",
       "<table border=\"1\" class=\"dataframe\">\n",
       "  <thead>\n",
       "    <tr style=\"text-align: right;\">\n",
       "      <th></th>\n",
       "      <th>adult</th>\n",
       "      <th>budget</th>\n",
       "      <th>homepage</th>\n",
       "      <th>id</th>\n",
       "      <th>imdb_id</th>\n",
       "      <th>original_language</th>\n",
       "      <th>original_title</th>\n",
       "      <th>overview</th>\n",
       "      <th>popularity</th>\n",
       "      <th>poster_path</th>\n",
       "      <th>...</th>\n",
       "      <th>idCollection</th>\n",
       "      <th>name_collection</th>\n",
       "      <th>genres_id</th>\n",
       "      <th>genres_name</th>\n",
       "      <th>production_companies_name</th>\n",
       "      <th>production_companies_id</th>\n",
       "      <th>production_countries_iso_3166_1</th>\n",
       "      <th>production_countries_name</th>\n",
       "      <th>spoken_languages_iso_639_1</th>\n",
       "      <th>spoken_languages_name</th>\n",
       "    </tr>\n",
       "  </thead>\n",
       "  <tbody>\n",
       "    <tr>\n",
       "      <th>0</th>\n",
       "      <td>False</td>\n",
       "      <td>30000000</td>\n",
       "      <td>http://toystory.disney.com/toy-story</td>\n",
       "      <td>862</td>\n",
       "      <td>tt0114709</td>\n",
       "      <td>en</td>\n",
       "      <td>Toy Story</td>\n",
       "      <td>Led by Woody, Andy's toys live happily in his ...</td>\n",
       "      <td>21.946943</td>\n",
       "      <td>/rhIRbceoE9lR4veEXuwCC2wARtG.jpg</td>\n",
       "      <td>...</td>\n",
       "      <td>10194.0</td>\n",
       "      <td>Toy Story Collection</td>\n",
       "      <td>16</td>\n",
       "      <td>Animation</td>\n",
       "      <td>Pixar Animation Studios</td>\n",
       "      <td>3.0</td>\n",
       "      <td>US</td>\n",
       "      <td>United States of America</td>\n",
       "      <td>en</td>\n",
       "      <td>English</td>\n",
       "    </tr>\n",
       "  </tbody>\n",
       "</table>\n",
       "<p>1 rows × 29 columns</p>\n",
       "</div>"
      ],
      "text/plain": [
       "   adult    budget                              homepage   id    imdb_id  \\\n",
       "0  False  30000000  http://toystory.disney.com/toy-story  862  tt0114709   \n",
       "\n",
       "  original_language original_title  \\\n",
       "0                en      Toy Story   \n",
       "\n",
       "                                            overview popularity  \\\n",
       "0  Led by Woody, Andy's toys live happily in his ...  21.946943   \n",
       "\n",
       "                        poster_path  ... idCollection       name_collection  \\\n",
       "0  /rhIRbceoE9lR4veEXuwCC2wARtG.jpg  ...      10194.0  Toy Story Collection   \n",
       "\n",
       "   genres_id genres_name production_companies_name production_companies_id  \\\n",
       "0         16   Animation   Pixar Animation Studios                     3.0   \n",
       "\n",
       "  production_countries_iso_3166_1  production_countries_name  \\\n",
       "0                              US   United States of America   \n",
       "\n",
       "   spoken_languages_iso_639_1  spoken_languages_name  \n",
       "0                          en                English  \n",
       "\n",
       "[1 rows x 29 columns]"
      ]
     },
     "execution_count": 153,
     "metadata": {},
     "output_type": "execute_result"
    }
   ],
   "source": [
    "print(movies.shape)\n",
    "\n",
    "movies.head(1)\n"
   ]
  },
  {
   "cell_type": "code",
   "execution_count": null,
   "metadata": {},
   "outputs": [],
   "source": [
    "#Se deben eliminar columnas de las desanidadas que no se usaran ***"
   ]
  },
  {
   "cell_type": "code",
   "execution_count": 154,
   "metadata": {},
   "outputs": [],
   "source": [
    "# Eliminar las columnas que no serán utilizadas\n",
    "columns_to_drop = ['video', 'imdb_id', 'adult', 'original_title', 'poster_path', 'homepage',  \n",
    "                   'production_countries_iso_3166_1', 'spoken_languages_iso_639_1']\n",
    "movies = movies.drop(columns=columns_to_drop)"
   ]
  },
  {
   "cell_type": "code",
   "execution_count": 156,
   "metadata": {},
   "outputs": [
    {
     "data": {
      "text/html": [
       "<div>\n",
       "<style scoped>\n",
       "    .dataframe tbody tr th:only-of-type {\n",
       "        vertical-align: middle;\n",
       "    }\n",
       "\n",
       "    .dataframe tbody tr th {\n",
       "        vertical-align: top;\n",
       "    }\n",
       "\n",
       "    .dataframe thead th {\n",
       "        text-align: right;\n",
       "    }\n",
       "</style>\n",
       "<table border=\"1\" class=\"dataframe\">\n",
       "  <thead>\n",
       "    <tr style=\"text-align: right;\">\n",
       "      <th></th>\n",
       "      <th>budget</th>\n",
       "      <th>idMovies</th>\n",
       "      <th>original_language</th>\n",
       "      <th>overview</th>\n",
       "      <th>popularity</th>\n",
       "      <th>release_date</th>\n",
       "      <th>revenue</th>\n",
       "      <th>runtime</th>\n",
       "      <th>status</th>\n",
       "      <th>tagline</th>\n",
       "      <th>...</th>\n",
       "      <th>vote_average</th>\n",
       "      <th>vote_count</th>\n",
       "      <th>idCollection</th>\n",
       "      <th>name_collection</th>\n",
       "      <th>id_genres</th>\n",
       "      <th>genres</th>\n",
       "      <th>production_companies</th>\n",
       "      <th>id_production</th>\n",
       "      <th>production_countries</th>\n",
       "      <th>spoken_language</th>\n",
       "    </tr>\n",
       "  </thead>\n",
       "  <tbody>\n",
       "    <tr>\n",
       "      <th>0</th>\n",
       "      <td>30000000</td>\n",
       "      <td>862</td>\n",
       "      <td>en</td>\n",
       "      <td>Led by Woody, Andy's toys live happily in his ...</td>\n",
       "      <td>21.946943</td>\n",
       "      <td>1995-10-30</td>\n",
       "      <td>373554033.0</td>\n",
       "      <td>81.0</td>\n",
       "      <td>Released</td>\n",
       "      <td>NaN</td>\n",
       "      <td>...</td>\n",
       "      <td>7.7</td>\n",
       "      <td>5415.0</td>\n",
       "      <td>10194.0</td>\n",
       "      <td>Toy Story Collection</td>\n",
       "      <td>16</td>\n",
       "      <td>Animation</td>\n",
       "      <td>Pixar Animation Studios</td>\n",
       "      <td>3.0</td>\n",
       "      <td>United States of America</td>\n",
       "      <td>English</td>\n",
       "    </tr>\n",
       "  </tbody>\n",
       "</table>\n",
       "<p>1 rows × 21 columns</p>\n",
       "</div>"
      ],
      "text/plain": [
       "     budget idMovies original_language  \\\n",
       "0  30000000      862                en   \n",
       "\n",
       "                                            overview popularity release_date  \\\n",
       "0  Led by Woody, Andy's toys live happily in his ...  21.946943   1995-10-30   \n",
       "\n",
       "       revenue  runtime    status tagline  ... vote_average  vote_count  \\\n",
       "0  373554033.0     81.0  Released     NaN  ...          7.7      5415.0   \n",
       "\n",
       "   idCollection       name_collection id_genres     genres  \\\n",
       "0       10194.0  Toy Story Collection        16  Animation   \n",
       "\n",
       "      production_companies id_production      production_countries  \\\n",
       "0  Pixar Animation Studios           3.0  United States of America   \n",
       "\n",
       "  spoken_language  \n",
       "0         English  \n",
       "\n",
       "[1 rows x 21 columns]"
      ]
     },
     "execution_count": 156,
     "metadata": {},
     "output_type": "execute_result"
    }
   ],
   "source": [
    "\n",
    "# Renombrar algunas columnas\n",
    "movies = movies.rename(columns={\n",
    "    'id': 'idMovies',\n",
    "    'genres_id': 'id_genres',\n",
    "    'genres_name': 'genres',\n",
    "    'production_companies_name': 'production_companies',\n",
    "    'production_companies_id': 'id_production',\n",
    "    'production_countries_name': 'production_countries',\n",
    "    'spoken_languages_name': 'spoken_language'\n",
    "\n",
    "})\n",
    "\n",
    "# Verificar las primeras filas del DataFrame para asegurarse de que las columnas han sido renombradas\n",
    "movies.head(1)"
   ]
  },
  {
   "cell_type": "code",
   "execution_count": 157,
   "metadata": {},
   "outputs": [
    {
     "name": "stdout",
     "output_type": "stream",
     "text": [
      "(45466, 21)\n"
     ]
    },
    {
     "data": {
      "text/html": [
       "<div>\n",
       "<style scoped>\n",
       "    .dataframe tbody tr th:only-of-type {\n",
       "        vertical-align: middle;\n",
       "    }\n",
       "\n",
       "    .dataframe tbody tr th {\n",
       "        vertical-align: top;\n",
       "    }\n",
       "\n",
       "    .dataframe thead th {\n",
       "        text-align: right;\n",
       "    }\n",
       "</style>\n",
       "<table border=\"1\" class=\"dataframe\">\n",
       "  <thead>\n",
       "    <tr style=\"text-align: right;\">\n",
       "      <th></th>\n",
       "      <th>budget</th>\n",
       "      <th>idMovies</th>\n",
       "      <th>original_language</th>\n",
       "      <th>overview</th>\n",
       "      <th>popularity</th>\n",
       "      <th>release_date</th>\n",
       "      <th>revenue</th>\n",
       "      <th>runtime</th>\n",
       "      <th>status</th>\n",
       "      <th>tagline</th>\n",
       "      <th>...</th>\n",
       "      <th>vote_average</th>\n",
       "      <th>vote_count</th>\n",
       "      <th>idCollection</th>\n",
       "      <th>name_collection</th>\n",
       "      <th>id_genres</th>\n",
       "      <th>genres</th>\n",
       "      <th>production_companies</th>\n",
       "      <th>id_production</th>\n",
       "      <th>production_countries</th>\n",
       "      <th>spoken_language</th>\n",
       "    </tr>\n",
       "  </thead>\n",
       "  <tbody>\n",
       "    <tr>\n",
       "      <th>0</th>\n",
       "      <td>30000000</td>\n",
       "      <td>862</td>\n",
       "      <td>en</td>\n",
       "      <td>Led by Woody, Andy's toys live happily in his ...</td>\n",
       "      <td>21.946943</td>\n",
       "      <td>1995-10-30</td>\n",
       "      <td>373554033.0</td>\n",
       "      <td>81.0</td>\n",
       "      <td>Released</td>\n",
       "      <td>NaN</td>\n",
       "      <td>...</td>\n",
       "      <td>7.7</td>\n",
       "      <td>5415.0</td>\n",
       "      <td>10194.0</td>\n",
       "      <td>Toy Story Collection</td>\n",
       "      <td>16</td>\n",
       "      <td>Animation</td>\n",
       "      <td>Pixar Animation Studios</td>\n",
       "      <td>3.0</td>\n",
       "      <td>United States of America</td>\n",
       "      <td>English</td>\n",
       "    </tr>\n",
       "  </tbody>\n",
       "</table>\n",
       "<p>1 rows × 21 columns</p>\n",
       "</div>"
      ],
      "text/plain": [
       "     budget idMovies original_language  \\\n",
       "0  30000000      862                en   \n",
       "\n",
       "                                            overview popularity release_date  \\\n",
       "0  Led by Woody, Andy's toys live happily in his ...  21.946943   1995-10-30   \n",
       "\n",
       "       revenue  runtime    status tagline  ... vote_average  vote_count  \\\n",
       "0  373554033.0     81.0  Released     NaN  ...          7.7      5415.0   \n",
       "\n",
       "   idCollection       name_collection id_genres     genres  \\\n",
       "0       10194.0  Toy Story Collection        16  Animation   \n",
       "\n",
       "      production_companies id_production      production_countries  \\\n",
       "0  Pixar Animation Studios           3.0  United States of America   \n",
       "\n",
       "  spoken_language  \n",
       "0         English  \n",
       "\n",
       "[1 rows x 21 columns]"
      ]
     },
     "execution_count": 157,
     "metadata": {},
     "output_type": "execute_result"
    }
   ],
   "source": [
    "#\n",
    "print(movies.shape)\n",
    "movies.head(1)"
   ]
  },
  {
   "cell_type": "markdown",
   "metadata": {},
   "source": [
    "Transformaciones solicitadas"
   ]
  },
  {
   "cell_type": "code",
   "execution_count": 158,
   "metadata": {},
   "outputs": [
    {
     "name": "stdout",
     "output_type": "stream",
     "text": [
      "       revenue    budget\n",
      "0  373554033.0  30000000\n",
      "1  262797249.0  65000000\n",
      "2          0.0         0\n",
      "3   81452156.0  16000000\n",
      "4   76578911.0         0\n"
     ]
    }
   ],
   "source": [
    "# Rellenar los valores nulos en las columnas 'revenue' y 'budget' con 0\n",
    "\n",
    "movies['revenue'] = movies['revenue'].fillna(0)\n",
    "movies['budget'] = movies['budget'].fillna(0)\n",
    "\n",
    "# Ver los primeros registros para verificar\n",
    "print(movies[['revenue', 'budget']].head())\n"
   ]
  },
  {
   "cell_type": "code",
   "execution_count": 159,
   "metadata": {},
   "outputs": [
    {
     "name": "stdout",
     "output_type": "stream",
     "text": [
      "  release_date\n",
      "0   1995-10-30\n",
      "1   1995-12-15\n",
      "2   1995-12-22\n",
      "3   1995-12-22\n",
      "4   1995-02-10\n"
     ]
    }
   ],
   "source": [
    "# Eliminar las filas donde el campo 'release date' es nulo\n",
    "movies = movies.dropna(subset=['release_date'])\n",
    "\n",
    "# Verificar los primeros registros para asegurarse de que se han eliminado las filas nulas\n",
    "print(movies[['release_date']].head())"
   ]
  },
  {
   "cell_type": "code",
   "execution_count": 160,
   "metadata": {},
   "outputs": [
    {
     "name": "stdout",
     "output_type": "stream",
     "text": [
      "  release_date release_year\n",
      "0   1995-10-30         1995\n",
      "1   1995-12-15         1995\n",
      "2   1995-12-22         1995\n",
      "3   1995-12-22         1995\n",
      "4   1995-02-10         1995\n"
     ]
    }
   ],
   "source": [
    "# Convertir la columna 'release_date' al formato de fecha AAAA-mm-dd\n",
    "movies['release_date'] = pd.to_datetime(movies['release_date'], errors='coerce', format='%Y-%m-%d')\n",
    "\n",
    "# Crear la columna 'release_year' extrayendo el año de 'release_date' y convirtiendo a formato de fecha con frecuencia anual\n",
    "movies['release_year'] = movies['release_date'].dt.to_period('Y')\n",
    "\n",
    "# Opcional: Eliminar filas con 'release_year' nulo\n",
    "movies = movies.dropna(subset=['release_year'])\n",
    "\n",
    "# Verificar los primeros registros para asegurarse de que las fechas están formateadas y el año ha sido extraído\n",
    "print(movies[['release_date', 'release_year']].head())\n"
   ]
  },
  {
   "cell_type": "code",
   "execution_count": 161,
   "metadata": {},
   "outputs": [
    {
     "name": "stdout",
     "output_type": "stream",
     "text": [
      "       revenue    budget     return\n",
      "0  373554033.0  30000000  12.451801\n",
      "1  262797249.0  65000000   4.043035\n",
      "2          0.0         0   0.000000\n",
      "3   81452156.0  16000000   5.090760\n",
      "4   76578911.0         0   0.000000\n"
     ]
    }
   ],
   "source": [
    "#Crear la columna con el retorno de inversión, llamada return con los campos revenue y budget, \n",
    "# dividiendo estas dos últimas revenue / budget, cuando no hay datos disponibles para calcularlo, deberá tomar el valor 0\n",
    "\n",
    "# Asegurarse de que las columnas 'revenue' y 'budget' sean numéricas\n",
    "movies['revenue'] = pd.to_numeric(movies['revenue'], errors='coerce')\n",
    "movies['budget'] = pd.to_numeric(movies['budget'], errors='coerce')\n",
    "\n",
    "# Crear la columna 'return' calculando revenue / budget\n",
    "# Si el budget es 0 o NaN, el retorno también debe ser 0\n",
    "movies['return'] = movies.apply(lambda row: row['revenue'] / row['budget'] if row['budget'] > 0 else 0, axis=1)\n",
    "\n",
    "# Verificar los primeros registros para asegurarse de que el cálculo es correcto\n",
    "print(movies[['revenue', 'budget', 'return']].head())\n"
   ]
  },
  {
   "cell_type": "markdown",
   "metadata": {},
   "source": [
    "Realizar otras modificaciones necesarias"
   ]
  },
  {
   "cell_type": "code",
   "execution_count": 163,
   "metadata": {},
   "outputs": [
    {
     "name": "stdout",
     "output_type": "stream",
     "text": [
      "   idCollection                 name_collection\n",
      "0       10194.0            Toy Story Collection\n",
      "1           NaN                            None\n",
      "2      119050.0       Grumpy Old Men Collection\n",
      "3           NaN                            None\n",
      "4       96871.0  Father of the Bride Collection\n"
     ]
    }
   ],
   "source": [
    "# Verifica los primeros registros para asegurarte de que la desanidación se realizó correctamente****\n",
    "print(movies[['idCollection','name_collection']].head())"
   ]
  },
  {
   "cell_type": "code",
   "execution_count": 164,
   "metadata": {},
   "outputs": [
    {
     "name": "stdout",
     "output_type": "stream",
     "text": [
      "budget                           int64\n",
      "idMovies                        object\n",
      "original_language               object\n",
      "overview                        object\n",
      "popularity                      object\n",
      "release_date            datetime64[ns]\n",
      "revenue                        float64\n",
      "runtime                        float64\n",
      "status                          object\n",
      "tagline                         object\n",
      "title                           object\n",
      "vote_average                   float64\n",
      "vote_count                     float64\n",
      "idCollection                   float64\n",
      "name_collection                 object\n",
      "id_genres                        int64\n",
      "genres                          object\n",
      "production_companies            object\n",
      "id_production                  float64\n",
      "production_countries            object\n",
      "spoken_language                 object\n",
      "release_year             period[Y-DEC]\n",
      "return                         float64\n",
      "dtype: object\n"
     ]
    }
   ],
   "source": [
    "#Verificacion de los tipos de datos\n",
    "print(movies.dtypes)"
   ]
  },
  {
   "cell_type": "code",
   "execution_count": 165,
   "metadata": {},
   "outputs": [],
   "source": [
    "# Modificación de idMovies\n",
    "# Convertir la columna 'id' a entero\n",
    "movies['idMovies'] = movies['idMovies'].astype(int)\n",
    "\n",
    "\n",
    "# Modificación de idProduccion\n",
    "# Llenar los valores nulos en 'idProduccion' con 0\n",
    "movies['id_production'] = movies['id_production'].fillna(0)\n",
    "\n",
    "# Convertir la columna 'idProduccion' a entero\n",
    "movies['id_production'] = movies['id_production'].astype(int)\n"
   ]
  },
  {
   "cell_type": "code",
   "execution_count": 166,
   "metadata": {},
   "outputs": [
    {
     "name": "stdout",
     "output_type": "stream",
     "text": [
      "budget                           int64\n",
      "idMovies                         int32\n",
      "original_language               object\n",
      "overview                        object\n",
      "popularity                     float64\n",
      "release_date            datetime64[ns]\n",
      "revenue                        float64\n",
      "runtime                        float64\n",
      "status                          object\n",
      "tagline                         object\n",
      "title                           object\n",
      "vote_average                   float64\n",
      "vote_count                     float64\n",
      "idCollection                   float64\n",
      "name_collection                 object\n",
      "id_genres                        int64\n",
      "genres                          object\n",
      "production_companies            object\n",
      "id_production                    int32\n",
      "production_countries            object\n",
      "spoken_language                 object\n",
      "release_year             period[Y-DEC]\n",
      "return                         float64\n",
      "dtype: object\n"
     ]
    }
   ],
   "source": [
    "# Convertir 'popularity' a float64\n",
    "movies['popularity'] = movies['popularity'].astype(float)\n",
    "\n",
    "# Verificar los tipos de datos después de las conversiones\n",
    "print(movies.dtypes)"
   ]
  },
  {
   "cell_type": "markdown",
   "metadata": {},
   "source": [
    "Verificacion de Campos Nulos"
   ]
  },
  {
   "cell_type": "code",
   "execution_count": 167,
   "metadata": {},
   "outputs": [
    {
     "data": {
      "text/plain": [
       "budget                      0\n",
       "idMovies                    0\n",
       "original_language          11\n",
       "overview                  941\n",
       "popularity                  0\n",
       "release_date                0\n",
       "revenue                     0\n",
       "runtime                   246\n",
       "status                     80\n",
       "tagline                 24978\n",
       "title                       0\n",
       "vote_average                0\n",
       "vote_count                  0\n",
       "idCollection            40888\n",
       "name_collection         40888\n",
       "id_genres                   0\n",
       "genres                      0\n",
       "production_companies        1\n",
       "id_production               0\n",
       "production_countries        3\n",
       "spoken_language             0\n",
       "release_year                0\n",
       "return                      0\n",
       "dtype: int64"
      ]
     },
     "execution_count": 167,
     "metadata": {},
     "output_type": "execute_result"
    }
   ],
   "source": [
    "#valores nulos\n",
    "movies.isnull().sum()"
   ]
  },
  {
   "cell_type": "code",
   "execution_count": 169,
   "metadata": {},
   "outputs": [
    {
     "name": "stdout",
     "output_type": "stream",
     "text": [
      "['Toy Story Collection' None 'Grumpy Old Men Collection' ...\n",
      " 'Ducobu Collection' 'Mister Blot Collection' 'Red Lotus Collection']\n"
     ]
    }
   ],
   "source": [
    "print(movies['name_collection'].unique())"
   ]
  },
  {
   "cell_type": "markdown",
   "metadata": {},
   "source": [
    "Resumen: Eliminación de la Columna coleccion_de_peliculas\n",
    "La columna coleccion_de_peliculas fue eliminada del conjunto de datos debido a su bajo nivel de cobertura y relevancia para el proyecto. Debido a su alta proporción de Valores Nulos: De las 45,466 películas en el conjunto de datos, 40,888 (aproximadamente el 90%).Esto indica que la mayoría de las películas no pertenecen a una franquicia o colección identificada, lo que limita significativamente su utilidad como característica predictiva para el sistema de recomendación.\n"
   ]
  },
  {
   "cell_type": "code",
   "execution_count": 170,
   "metadata": {},
   "outputs": [],
   "source": [
    "# Eliminar las columnas que no serán utilizadas\n",
    "columns_to_drop = ['idCollection', 'name_collection']\n",
    "movies = movies.drop(columns=columns_to_drop)"
   ]
  },
  {
   "cell_type": "code",
   "execution_count": 171,
   "metadata": {},
   "outputs": [
    {
     "data": {
      "text/plain": [
       "budget                      0\n",
       "idMovies                    0\n",
       "original_language          11\n",
       "overview                  941\n",
       "popularity                  0\n",
       "release_date                0\n",
       "revenue                     0\n",
       "runtime                   246\n",
       "status                     80\n",
       "tagline                 24978\n",
       "title                       0\n",
       "vote_average                0\n",
       "vote_count                  0\n",
       "id_genres                   0\n",
       "genres                      0\n",
       "production_companies        1\n",
       "id_production               0\n",
       "production_countries        3\n",
       "spoken_language             0\n",
       "release_year                0\n",
       "return                      0\n",
       "dtype: int64"
      ]
     },
     "execution_count": 171,
     "metadata": {},
     "output_type": "execute_result"
    }
   ],
   "source": [
    "#valores nulos\n",
    "movies.isnull().sum()"
   ]
  },
  {
   "cell_type": "code",
   "execution_count": 172,
   "metadata": {},
   "outputs": [],
   "source": [
    "# Diccionario con columnas y valores de relleno\n",
    "fill_values = {\n",
    "    \n",
    "    'original_language': 'unknown',\n",
    "    'overview': 'no summary',\n",
    "    'tagline': 'no summary',\n",
    "    'status': 'unknown',\n",
    "    'compañiaProduccion': 'unknown',\n",
    "    'paisProduccion': 'unknown',\n",
    "    'runtime': 0\n",
    "    \n",
    "}\n",
    "\n",
    "# Rellenar los valores nulos en las columnas especificadas usando un diccionario\n",
    "movies.fillna(value=fill_values, inplace=True)"
   ]
  },
  {
   "cell_type": "code",
   "execution_count": 176,
   "metadata": {},
   "outputs": [
    {
     "data": {
      "text/plain": [
       "(45376, 21)"
      ]
     },
     "execution_count": 176,
     "metadata": {},
     "output_type": "execute_result"
    }
   ],
   "source": [
    "movies.shape\n"
   ]
  },
  {
   "cell_type": "code",
   "execution_count": 173,
   "metadata": {},
   "outputs": [
    {
     "data": {
      "text/plain": [
       "budget                  0\n",
       "idMovies                0\n",
       "original_language       0\n",
       "overview                0\n",
       "popularity              0\n",
       "release_date            0\n",
       "revenue                 0\n",
       "runtime                 0\n",
       "status                  0\n",
       "tagline                 0\n",
       "title                   0\n",
       "vote_average            0\n",
       "vote_count              0\n",
       "id_genres               0\n",
       "genres                  0\n",
       "production_companies    1\n",
       "id_production           0\n",
       "production_countries    3\n",
       "spoken_language         0\n",
       "release_year            0\n",
       "return                  0\n",
       "dtype: int64"
      ]
     },
     "execution_count": 173,
     "metadata": {},
     "output_type": "execute_result"
    }
   ],
   "source": [
    "#valores nulos\n",
    "movies.isnull().sum()"
   ]
  },
  {
   "cell_type": "markdown",
   "metadata": {},
   "source": [
    "****OJO PONER TEXTO DEL IDIOMA"
   ]
  },
  {
   "cell_type": "code",
   "execution_count": 174,
   "metadata": {},
   "outputs": [
    {
     "name": "stdout",
     "output_type": "stream",
     "text": [
      "Columna con caracteres no latinos: overview\n",
      "Columna con caracteres no latinos: tagline\n",
      "Columna con caracteres no latinos: title\n",
      "Columna con caracteres no latinos: production_companies\n",
      "Columna con caracteres no latinos: spoken_language\n"
     ]
    }
   ],
   "source": [
    "import re\n",
    "\n",
    "def contains_non_latin(text):\n",
    "    # Verifica si hay caracteres que no sean latinos (ASCII)\n",
    "    if pd.isnull(text):\n",
    "        return False\n",
    "    return bool(re.search('[^\\u0000-\\u007F]+', str(text)))\n",
    "\n",
    "# Aplicar la función a las columnas\n",
    "for col in movies.columns:\n",
    "    if movies[col].apply(contains_non_latin).any():\n",
    "        print(f\"Columna con caracteres no latinos: {col}\")\n"
   ]
  },
  {
   "cell_type": "markdown",
   "metadata": {},
   "source": [
    "overview', 'tagline', 'compañiaProduccion', 'spoken_language'"
   ]
  },
  {
   "cell_type": "markdown",
   "metadata": {},
   "source": [
    "\"Durante la fase de ETL, se identificaron columnas con caracteres no latinos en el dataset, como title, overview, tagline, compañiaProduccion, y spoken_language. Estas columnas se traducirán al inglés usando una herramienta automática de traducción para garantizar uniformidad en el idioma. Este paso es crucial para asegurar que los textos puedan ser procesados correctamente en el modelo de recomendación y evitar problemas derivados de la diferencia de idiomas.\""
   ]
  },
  {
   "cell_type": "markdown",
   "metadata": {},
   "source": [
    "ojo ****\"Durante la fase de ETL, se han aplicado varias técnicas de procesamiento a las columnas textuales del dataset para optimizar el modelado de recomendación de películas. Estas técnicas incluyen la normalización del texto, extracción de características mediante TF-IDF, obtención de embeddings de palabras, y codificación de categorías. La normalización asegura la uniformidad en el análisis, mientras que las técnicas de extracción de características y embeddings permiten una representación más rica y útil de los datos textuales.\""
   ]
  },
  {
   "cell_type": "code",
   "execution_count": null,
   "metadata": {},
   "outputs": [],
   "source": [
    "from polyglot.detect import Detector\n",
    "import pandas as pd\n",
    "\n",
    "def filter_text_by_polyglot(df, columns, language='en'):\n",
    "    def is_language(text):\n",
    "        if pd.isna(text) or text.strip() == '':\n",
    "            return False\n",
    "        try:\n",
    "            detector = Detector(text)\n",
    "            return detector.language.code == language\n",
    "        except Exception as e:\n",
    "            print(f\"Error detectando idioma: {e}\")\n",
    "            return False\n",
    "\n",
    "    for column in columns:\n",
    "        df[column] = df[column].apply(lambda x: x if is_language(x) else None)\n",
    "    return df\n",
    "\n",
    "# Ejemplo de uso\n",
    "columns_to_check = ['title', 'overview', 'tagline', 'compañiaProduccion', 'spoken_language']\n",
    "df = filter_text_by_polyglot(df, columns_to_check)\n",
    "\n",
    "\n"
   ]
  },
  {
   "cell_type": "code",
   "execution_count": 175,
   "metadata": {},
   "outputs": [],
   "source": [
    "\n",
    "# Exportar los cambios realizados \n",
    "movies.to_csv('movies_transformado.csv', index=False)\n"
   ]
  }
 ],
 "metadata": {
  "kernelspec": {
   "display_name": "Python 3",
   "language": "python",
   "name": "python3"
  },
  "language_info": {
   "codemirror_mode": {
    "name": "ipython",
    "version": 3
   },
   "file_extension": ".py",
   "mimetype": "text/x-python",
   "name": "python",
   "nbconvert_exporter": "python",
   "pygments_lexer": "ipython3",
   "version": "3.12.3"
  }
 },
 "nbformat": 4,
 "nbformat_minor": 2
}
